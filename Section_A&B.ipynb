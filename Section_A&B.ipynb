{
 "cells": [
  {
   "cell_type": "code",
   "execution_count": 2,
   "id": "1fbc6781",
   "metadata": {},
   "outputs": [],
   "source": [
    "import pandas as pd"
   ]
  },
  {
   "cell_type": "markdown",
   "id": "03a7757d",
   "metadata": {},
   "source": [
    "# **SECTION A :**"
   ]
  },
  {
   "cell_type": "markdown",
   "id": "d9426d7a",
   "metadata": {},
   "source": [
    "# Q1"
   ]
  },
  {
   "cell_type": "code",
   "execution_count": 3,
   "id": "44998b8b",
   "metadata": {},
   "outputs": [
    {
     "data": {
      "text/html": [
       "<div>\n",
       "<style scoped>\n",
       "    .dataframe tbody tr th:only-of-type {\n",
       "        vertical-align: middle;\n",
       "    }\n",
       "\n",
       "    .dataframe tbody tr th {\n",
       "        vertical-align: top;\n",
       "    }\n",
       "\n",
       "    .dataframe thead th {\n",
       "        text-align: right;\n",
       "    }\n",
       "</style>\n",
       "<table border=\"1\" class=\"dataframe\">\n",
       "  <thead>\n",
       "    <tr style=\"text-align: right;\">\n",
       "      <th></th>\n",
       "      <th>Vehicle_ID</th>\n",
       "      <th>Manufacturer</th>\n",
       "      <th>Model</th>\n",
       "      <th>Year</th>\n",
       "      <th>Battery_Type</th>\n",
       "      <th>Battery_Capacity_kWh</th>\n",
       "      <th>Range_km</th>\n",
       "      <th>Charging_Type</th>\n",
       "      <th>Charge_Time_hr</th>\n",
       "      <th>Price_USD</th>\n",
       "      <th>Color</th>\n",
       "      <th>Country_of_Manufacture</th>\n",
       "      <th>Autonomous_Level</th>\n",
       "      <th>CO2_Emissions_g_per_km</th>\n",
       "      <th>Safety_Rating</th>\n",
       "      <th>Units_Sold_2024</th>\n",
       "      <th>Warranty_Years</th>\n",
       "    </tr>\n",
       "  </thead>\n",
       "  <tbody>\n",
       "    <tr>\n",
       "      <th>0</th>\n",
       "      <td>1</td>\n",
       "      <td>Acura</td>\n",
       "      <td>ZDX (with GM Ultium)</td>\n",
       "      <td>2015</td>\n",
       "      <td>Lithium-titanate</td>\n",
       "      <td>55.8</td>\n",
       "      <td>214</td>\n",
       "      <td>CHAdeMO</td>\n",
       "      <td>9.0</td>\n",
       "      <td>111203.94</td>\n",
       "      <td>Matte White</td>\n",
       "      <td>UK</td>\n",
       "      <td>0.0</td>\n",
       "      <td>NaN</td>\n",
       "      <td>5.0</td>\n",
       "      <td>19726</td>\n",
       "      <td>3</td>\n",
       "    </tr>\n",
       "    <tr>\n",
       "      <th>1</th>\n",
       "      <td>2</td>\n",
       "      <td>Lamborghini</td>\n",
       "      <td>Revuelto (PHEV)</td>\n",
       "      <td>2025</td>\n",
       "      <td>Lithium-titanate</td>\n",
       "      <td>90.8</td>\n",
       "      <td>212</td>\n",
       "      <td>Vehicle-to-Home (V2H)</td>\n",
       "      <td>7.3</td>\n",
       "      <td>127131.65</td>\n",
       "      <td>White</td>\n",
       "      <td>Netherlands</td>\n",
       "      <td>2.0</td>\n",
       "      <td>0.0</td>\n",
       "      <td>4.0</td>\n",
       "      <td>3349</td>\n",
       "      <td>3</td>\n",
       "    </tr>\n",
       "    <tr>\n",
       "      <th>2</th>\n",
       "      <td>3</td>\n",
       "      <td>NIO</td>\n",
       "      <td>ET7</td>\n",
       "      <td>2020</td>\n",
       "      <td>Calcium-ion</td>\n",
       "      <td>64.7</td>\n",
       "      <td>235</td>\n",
       "      <td>Level 2 Charging</td>\n",
       "      <td>8.9</td>\n",
       "      <td>94347.37</td>\n",
       "      <td>Beige</td>\n",
       "      <td>UK</td>\n",
       "      <td>5.0</td>\n",
       "      <td>0.0</td>\n",
       "      <td>5.0</td>\n",
       "      <td>6300</td>\n",
       "      <td>5</td>\n",
       "    </tr>\n",
       "    <tr>\n",
       "      <th>3</th>\n",
       "      <td>4</td>\n",
       "      <td>Audi</td>\n",
       "      <td>e-tron</td>\n",
       "      <td>2025</td>\n",
       "      <td>Lithium-iron phosphate</td>\n",
       "      <td>120.5</td>\n",
       "      <td>140</td>\n",
       "      <td>Ultra-Fast Charging (350 kW+)</td>\n",
       "      <td>10.5</td>\n",
       "      <td>75615.15</td>\n",
       "      <td>Sunset Orange</td>\n",
       "      <td>Argentina</td>\n",
       "      <td>2.0</td>\n",
       "      <td>0.0</td>\n",
       "      <td>5.0</td>\n",
       "      <td>2339</td>\n",
       "      <td>5</td>\n",
       "    </tr>\n",
       "    <tr>\n",
       "      <th>4</th>\n",
       "      <td>5</td>\n",
       "      <td>Acura</td>\n",
       "      <td>ZDX (with GM Ultium)</td>\n",
       "      <td>2023</td>\n",
       "      <td>Lithium-titanate</td>\n",
       "      <td>51.8</td>\n",
       "      <td>336</td>\n",
       "      <td>Plug-in Hydrogen Refueling</td>\n",
       "      <td>3.6</td>\n",
       "      <td>141046.94</td>\n",
       "      <td>Ice Silver</td>\n",
       "      <td>United Arab Emirates</td>\n",
       "      <td>2.0</td>\n",
       "      <td>0.0</td>\n",
       "      <td>3.0</td>\n",
       "      <td>1051</td>\n",
       "      <td>4</td>\n",
       "    </tr>\n",
       "  </tbody>\n",
       "</table>\n",
       "</div>"
      ],
      "text/plain": [
       "   Vehicle_ID Manufacturer                 Model  Year  \\\n",
       "0           1        Acura  ZDX (with GM Ultium)  2015   \n",
       "1           2  Lamborghini       Revuelto (PHEV)  2025   \n",
       "2           3          NIO                   ET7  2020   \n",
       "3           4         Audi                e-tron  2025   \n",
       "4           5        Acura  ZDX (with GM Ultium)  2023   \n",
       "\n",
       "             Battery_Type  Battery_Capacity_kWh  Range_km  \\\n",
       "0        Lithium-titanate                  55.8       214   \n",
       "1        Lithium-titanate                  90.8       212   \n",
       "2             Calcium-ion                  64.7       235   \n",
       "3  Lithium-iron phosphate                 120.5       140   \n",
       "4        Lithium-titanate                  51.8       336   \n",
       "\n",
       "                   Charging_Type  Charge_Time_hr  Price_USD          Color  \\\n",
       "0                        CHAdeMO             9.0  111203.94    Matte White   \n",
       "1          Vehicle-to-Home (V2H)             7.3  127131.65          White   \n",
       "2               Level 2 Charging             8.9   94347.37          Beige   \n",
       "3  Ultra-Fast Charging (350 kW+)            10.5   75615.15  Sunset Orange   \n",
       "4     Plug-in Hydrogen Refueling             3.6  141046.94     Ice Silver   \n",
       "\n",
       "  Country_of_Manufacture  Autonomous_Level  CO2_Emissions_g_per_km  \\\n",
       "0                     UK               0.0                     NaN   \n",
       "1            Netherlands               2.0                     0.0   \n",
       "2                     UK               5.0                     0.0   \n",
       "3              Argentina               2.0                     0.0   \n",
       "4   United Arab Emirates               2.0                     0.0   \n",
       "\n",
       "   Safety_Rating  Units_Sold_2024  Warranty_Years  \n",
       "0            5.0            19726               3  \n",
       "1            4.0             3349               3  \n",
       "2            5.0             6300               5  \n",
       "3            5.0             2339               5  \n",
       "4            3.0             1051               4  "
      ]
     },
     "execution_count": 3,
     "metadata": {},
     "output_type": "execute_result"
    }
   ],
   "source": [
    "df = pd.read_csv('electric_vehicles_dataset.csv')\n",
    "df.head()"
   ]
  },
  {
   "cell_type": "code",
   "execution_count": 4,
   "id": "9368855a",
   "metadata": {},
   "outputs": [
    {
     "data": {
      "text/plain": [
       "Vehicle_ID                  0\n",
       "Manufacturer                0\n",
       "Model                       0\n",
       "Year                        0\n",
       "Battery_Type                0\n",
       "Battery_Capacity_kWh        0\n",
       "Range_km                    0\n",
       "Charging_Type               0\n",
       "Charge_Time_hr              0\n",
       "Price_USD                   0\n",
       "Color                       0\n",
       "Country_of_Manufacture      0\n",
       "Autonomous_Level          442\n",
       "CO2_Emissions_g_per_km    592\n",
       "Safety_Rating             337\n",
       "Units_Sold_2024             0\n",
       "Warranty_Years              0\n",
       "dtype: int64"
      ]
     },
     "execution_count": 4,
     "metadata": {},
     "output_type": "execute_result"
    }
   ],
   "source": [
    "df.isnull().sum()"
   ]
  },
  {
   "cell_type": "code",
   "execution_count": 5,
   "id": "c1bf35d1",
   "metadata": {},
   "outputs": [
    {
     "data": {
      "text/plain": [
       "(3022, 17)"
      ]
     },
     "execution_count": 5,
     "metadata": {},
     "output_type": "execute_result"
    }
   ],
   "source": [
    "df.shape"
   ]
  },
  {
   "cell_type": "markdown",
   "id": "2a1207e3",
   "metadata": {},
   "source": [
    "# Q2"
   ]
  },
  {
   "cell_type": "code",
   "execution_count": 6,
   "id": "6f59b1f5",
   "metadata": {},
   "outputs": [
    {
     "name": "stdout",
     "output_type": "stream",
     "text": [
      "<class 'pandas.core.frame.DataFrame'>\n",
      "RangeIndex: 3022 entries, 0 to 3021\n",
      "Data columns (total 17 columns):\n",
      " #   Column                  Non-Null Count  Dtype  \n",
      "---  ------                  --------------  -----  \n",
      " 0   Vehicle_ID              3022 non-null   int64  \n",
      " 1   Manufacturer            3022 non-null   object \n",
      " 2   Model                   3022 non-null   object \n",
      " 3   Year                    3022 non-null   int64  \n",
      " 4   Battery_Type            3022 non-null   object \n",
      " 5   Battery_Capacity_kWh    3022 non-null   float64\n",
      " 6   Range_km                3022 non-null   int64  \n",
      " 7   Charging_Type           3022 non-null   object \n",
      " 8   Charge_Time_hr          3022 non-null   float64\n",
      " 9   Price_USD               3022 non-null   float64\n",
      " 10  Color                   3022 non-null   object \n",
      " 11  Country_of_Manufacture  3022 non-null   object \n",
      " 12  Autonomous_Level        2580 non-null   float64\n",
      " 13  CO2_Emissions_g_per_km  2430 non-null   float64\n",
      " 14  Safety_Rating           2685 non-null   float64\n",
      " 15  Units_Sold_2024         3022 non-null   int64  \n",
      " 16  Warranty_Years          3022 non-null   int64  \n",
      "dtypes: float64(6), int64(5), object(6)\n",
      "memory usage: 401.5+ KB\n"
     ]
    }
   ],
   "source": [
    "df.info()"
   ]
  },
  {
   "cell_type": "code",
   "execution_count": 7,
   "id": "5e3e9206",
   "metadata": {},
   "outputs": [
    {
     "data": {
      "text/plain": [
       "array(['Acura', 'Lamborghini', 'NIO', 'Audi', 'XPeng', 'Jeep', 'Changan',\n",
       "       'Citroen', 'Rimac', 'Volkswagen', 'Jaguar', 'Mini', 'BMW',\n",
       "       'Faraday Future', 'Tesla', 'Maserati', 'Polestar', 'Skoda',\n",
       "       'Geely', 'Chevrolet', 'Lucid Motors', 'Porsche', 'Toyota',\n",
       "       'Li Auto', 'Volvo', 'Seat', 'MG', 'Nissan', 'Ford', 'GMC',\n",
       "       'Cadillac', 'VinFast', 'Great Wall Motors', 'Mazda', 'Honda',\n",
       "       'Kia', 'BYD', 'Rivian', 'Opel', 'Hyundai', 'Lotus', 'Dacia',\n",
       "       'Mercedes-Benz', 'Zeekr', 'Genesis', 'Subaru', 'Canoo', 'Fisker',\n",
       "       'Renault', 'Ferrari', 'Mahindra', 'Peugeot', 'Pininfarina'],\n",
       "      dtype=object)"
      ]
     },
     "execution_count": 7,
     "metadata": {},
     "output_type": "execute_result"
    }
   ],
   "source": [
    "df['Manufacturer'].unique()"
   ]
  },
  {
   "cell_type": "code",
   "execution_count": 8,
   "id": "667dc65f",
   "metadata": {},
   "outputs": [
    {
     "data": {
      "text/plain": [
       "array(['ZDX (with GM Ultium)', 'Revuelto (PHEV)', 'ET7', 'e-tron', 'G9',\n",
       "       'Recon (upcoming)', 'Q05', 'ë-C4', 'Nevera', 'ID.Buzz', 'I-PACE',\n",
       "       'Mini Cooper SE', 'iX3', 'FF 91', 'Model Y', 'Grecale Folgore',\n",
       "       'Polestar 2', 'Elroq (upcoming)', 'Emgrand EV', 'Enyaq',\n",
       "       'Mini Electric', 'Bolt EV', 'Lucid Gravity', 'Geometry C',\n",
       "       'Bolt EUV', 'Cayenne Electric (upcoming)',\n",
       "       'Lanzador (upcoming EV)', 'Lexus RZ', 'MEGA', 'EX30', 'SL03',\n",
       "       'Avenger', 'Lucid Air', 'MG5 EV', 'Ariya', 'Wagoneer S',\n",
       "       'Cybertruck', 'E-Transit', 'Hummer EV Pickup', 'Celestiq', 'Ami',\n",
       "       'L9', 'ID.5', 'VF 7', 'ORA Lightning Cat',\n",
       "       'Mazda EV (upcoming models)', 'F-150 Lightning', 'Honda Prologue',\n",
       "       'Soul EV', 'bZ4X', 'Han EV', 'Hummer EV SUV', 'Polestar 3',\n",
       "       'EDV (Electric Delivery Van)', 'Corsa-e', 'Panamera EV',\n",
       "       'VFe34 (discontinued)', 'e-tron GT', 'R1S', 'Kona Electric',\n",
       "       'Grandland Electric', 'Mustang Mach-E', 'Evija', 'ID.6', 'P5',\n",
       "       'Ioniq 7 (upcoming)', 'Niro EV', 'Jogger Hybrid', 'VF 8', 'EQB',\n",
       "       'Zeekr 001', 'GV80 Electric', 'MG4 Electric', 'Volt (PHEV)',\n",
       "       'Zeekr X', 'Zeekr 009', 'ID.2all', 'Solterra', 'Lucid DreamDrive',\n",
       "       'ë-Spacetourer', 'Pickup', 'Ocean', 'P7', 'MPDV', 'ID.7',\n",
       "       'ORA Good Cat', 'Lexus UX 300e', 'EV6', 'Taycan', 'iX1', 'MG ES5',\n",
       "       'i3', 'Kangoo E-Tech', 'Ferrari EV (2025+)', 'XUV400', 'ET5',\n",
       "       'Scenic E-Tech', 'Model S', 'C40 Recharge', 'e-3008',\n",
       "       'Pear (upcoming)', 'ES8', 'Leaf', 'EQS SUV',\n",
       "       'SF90 Stradale (PHEV)', 'VF 9', 'L7', 'Roma PHEV', 'GV60',\n",
       "       'GranTurismo Folgore', 'EQA', 'Deepal S07', 'XC40 Recharge',\n",
       "       'e:Ny1', 'Lifestyle Vehicle', 'Emeya', 'Macan EV',\n",
       "       'Born Electric (upcoming range)', 'Mini Aceman', 'EQS', 'L8',\n",
       "       'Geometry A', 'Dolphin', 'Enyaq Coupe', 'Zeekr 007', 'Lyriq',\n",
       "       'GV70 Electric', '5 E-Tech', 'Grand Cherokee 4xe (PHEV)',\n",
       "       'Optiq (upcoming)', 'Model X', 'ES7', 'Tang EV',\n",
       "       'Roadster (upcoming)', 'Bigster EV (upcoming)', 'G80 Electric',\n",
       "       'Eletre', 'Polestar 4', 'ORA Ballet Cat', 'e-208', 'Equinox EV',\n",
       "       'EV9', 'Explorer EV (Europe)', 'Megane E-Tech', 'Mokka-e',\n",
       "       'Battista', 'iX', 'R1T', 'G6', 'Atto 3', 'Seal', 'Seagull',\n",
       "       'A6 e-tron (upcoming)', 'i7', 'ID.3', 'Q8 e-tron',\n",
       "       'Honda e (discontinued)', 'X9', 'Silverado EV', 'MX-30', 'Ioniq 6',\n",
       "       'Wrangler 4xe (PHEV)', 'ET9', 'e-2008', 'i4', 'Q4 e-tron', 'EX90',\n",
       "       'Model 3', 'VF 6', 'EQC', 'EQE SUV', 'EQE', 'Ioniq 5', 'MG ZS EV',\n",
       "       'e-5008', 'ES6', 'Polestar 5 (upcoming)', 'ID.4', 'EL7', 'EC6',\n",
       "       'G-Class Electric (upcoming)'], dtype=object)"
      ]
     },
     "execution_count": 8,
     "metadata": {},
     "output_type": "execute_result"
    }
   ],
   "source": [
    "df['Model'].unique()"
   ]
  },
  {
   "cell_type": "code",
   "execution_count": 9,
   "id": "a5df2897",
   "metadata": {},
   "outputs": [
    {
     "data": {
      "text/plain": [
       "array(['Lithium-titanate', 'Calcium-ion', 'Lithium-iron phosphate',\n",
       "       'Nickel-cobalt-aluminum', 'Lead-acid', 'Aluminum-ion',\n",
       "       'Solid-state', 'Flow batteries', 'Lithium-ion', 'Zinc-air',\n",
       "       'Nickel-metal hydride', 'Sodium-ion', 'Nickel-manganese-cobalt',\n",
       "       'Lithium-sulfur', 'Magnesium-ion'], dtype=object)"
      ]
     },
     "execution_count": 9,
     "metadata": {},
     "output_type": "execute_result"
    }
   ],
   "source": [
    "df['Battery_Type'].unique()"
   ]
  },
  {
   "cell_type": "code",
   "execution_count": 10,
   "id": "322c519c",
   "metadata": {},
   "outputs": [
    {
     "data": {
      "text/plain": [
       "array(['CHAdeMO', 'Vehicle-to-Home (V2H)', 'Level 2 Charging',\n",
       "       'Ultra-Fast Charging (350 kW+)', 'Plug-in Hydrogen Refueling',\n",
       "       'Mobile Charging', 'Vehicle-to-Load (V2L)', 'CCS',\n",
       "       'Solar Charging', 'Vehicle-to-Grid (V2G)', 'Level 1 Charging',\n",
       "       'NACS', 'Inductive (Wireless) Charging', 'Battery Swapping',\n",
       "       'Overhead Pantograph Charging', 'DC Fast Charging (DCFC)'],\n",
       "      dtype=object)"
      ]
     },
     "execution_count": 10,
     "metadata": {},
     "output_type": "execute_result"
    }
   ],
   "source": [
    "df['Charging_Type'].unique()"
   ]
  },
  {
   "cell_type": "code",
   "execution_count": 11,
   "id": "6179b7ed",
   "metadata": {},
   "outputs": [
    {
     "data": {
      "text/plain": [
       "array(['Matte White', 'White', 'Beige', 'Sunset Orange', 'Ice Silver',\n",
       "       'Ruby Red', 'Orange', 'Bronze', 'Metallic Silver', 'Matte Green',\n",
       "       'Stealth Gray', 'Cosmic Purple', 'Tan', 'Rose Gold', 'Burgundy',\n",
       "       'Teal', 'Matte Blue', 'Forest Green', 'Crimson Red', 'Sky Blue',\n",
       "       'Matte Gray', 'Lime Green', 'Magenta', 'Gray', 'Titanium', 'Green',\n",
       "       'Purple', 'Aurora Blue', 'Gun Metal', 'Turquoise', 'Navy Blue',\n",
       "       'Candy Apple Red', 'Yellow', 'Pearl White', 'Copper', 'Gold',\n",
       "       'Brown', 'Electric Blue', 'Silver', 'Matte Black', 'Champagne',\n",
       "       'Sapphire Blue', 'Pink', 'Red', 'Midnight Black', 'Emerald Green',\n",
       "       'Charcoal', 'Graphite Gray', 'Cream', 'Volcanic Yellow',\n",
       "       'Platinum', 'Cobalt Blue', 'Racing Red', 'Blue', 'Black'],\n",
       "      dtype=object)"
      ]
     },
     "execution_count": 11,
     "metadata": {},
     "output_type": "execute_result"
    }
   ],
   "source": [
    "df['Color'].unique()"
   ]
  },
  {
   "cell_type": "code",
   "execution_count": 12,
   "id": "74fe1170",
   "metadata": {},
   "outputs": [
    {
     "data": {
      "text/plain": [
       "array(['UK', 'Netherlands', 'Argentina', 'United Arab Emirates',\n",
       "       'Australia', 'Sweden', 'Mexico', 'Denmark', 'South Korea',\n",
       "       'Belgium', 'Norway', 'Hungary', 'China', 'France', 'Japan',\n",
       "       'Saudi Arabia', 'India', 'Poland', 'USA', 'Finland',\n",
       "       'South Africa', 'Switzerland', 'Portugal', 'Germany', 'Ireland',\n",
       "       'Canada', 'Italy', 'Austria', 'Spain', 'Thailand', 'Israel',\n",
       "       'Indonesia', 'Singapore', 'Vietnam', 'Brazil', 'Turkey',\n",
       "       'New Zealand', 'Russia', 'Malaysia', 'Czech Republic'],\n",
       "      dtype=object)"
      ]
     },
     "execution_count": 12,
     "metadata": {},
     "output_type": "execute_result"
    }
   ],
   "source": [
    "df['Country_of_Manufacture'].unique()"
   ]
  },
  {
   "cell_type": "code",
   "execution_count": 13,
   "id": "fe22eb2e",
   "metadata": {},
   "outputs": [
    {
     "data": {
      "text/plain": [
       "np.int64(0)"
      ]
     },
     "execution_count": 13,
     "metadata": {},
     "output_type": "execute_result"
    }
   ],
   "source": [
    "df.duplicated().sum()"
   ]
  },
  {
   "cell_type": "markdown",
   "id": "7317eb15",
   "metadata": {},
   "source": [
    "# Q3"
   ]
  },
  {
   "cell_type": "code",
   "execution_count": 14,
   "id": "453be99c",
   "metadata": {},
   "outputs": [
    {
     "data": {
      "text/html": [
       "<div>\n",
       "<style scoped>\n",
       "    .dataframe tbody tr th:only-of-type {\n",
       "        vertical-align: middle;\n",
       "    }\n",
       "\n",
       "    .dataframe tbody tr th {\n",
       "        vertical-align: top;\n",
       "    }\n",
       "\n",
       "    .dataframe thead th {\n",
       "        text-align: right;\n",
       "    }\n",
       "</style>\n",
       "<table border=\"1\" class=\"dataframe\">\n",
       "  <thead>\n",
       "    <tr style=\"text-align: right;\">\n",
       "      <th></th>\n",
       "      <th>Vehicle_ID</th>\n",
       "      <th>Manufacturer</th>\n",
       "      <th>Model</th>\n",
       "      <th>Year</th>\n",
       "      <th>Battery_Type</th>\n",
       "      <th>Battery_Capacity_kWh</th>\n",
       "      <th>Range_km</th>\n",
       "      <th>Charging_Type</th>\n",
       "      <th>Charge_Time_hr</th>\n",
       "      <th>Price_USD</th>\n",
       "      <th>Color</th>\n",
       "      <th>Country_of_Manufacture</th>\n",
       "      <th>Autonomous_Level</th>\n",
       "      <th>CO2_Emissions_g_per_km</th>\n",
       "      <th>Safety_Rating</th>\n",
       "      <th>Units_Sold_2024</th>\n",
       "      <th>Warranty_Years</th>\n",
       "    </tr>\n",
       "  </thead>\n",
       "  <tbody>\n",
       "    <tr>\n",
       "      <th>0</th>\n",
       "      <td>1</td>\n",
       "      <td>Acura</td>\n",
       "      <td>ZDX (with GM Ultium)</td>\n",
       "      <td>2015</td>\n",
       "      <td>Lithium-titanate</td>\n",
       "      <td>55.8</td>\n",
       "      <td>214</td>\n",
       "      <td>CHAdeMO</td>\n",
       "      <td>9.0</td>\n",
       "      <td>111203.94</td>\n",
       "      <td>Matte White</td>\n",
       "      <td>UK</td>\n",
       "      <td>0.0</td>\n",
       "      <td>NaN</td>\n",
       "      <td>5.0</td>\n",
       "      <td>19726</td>\n",
       "      <td>3</td>\n",
       "    </tr>\n",
       "    <tr>\n",
       "      <th>1</th>\n",
       "      <td>2</td>\n",
       "      <td>Lamborghini</td>\n",
       "      <td>Revuelto (PHEV)</td>\n",
       "      <td>2025</td>\n",
       "      <td>Lithium-titanate</td>\n",
       "      <td>90.8</td>\n",
       "      <td>212</td>\n",
       "      <td>Vehicle-to-Home (V2H)</td>\n",
       "      <td>7.3</td>\n",
       "      <td>127131.65</td>\n",
       "      <td>White</td>\n",
       "      <td>Netherlands</td>\n",
       "      <td>2.0</td>\n",
       "      <td>0.0</td>\n",
       "      <td>4.0</td>\n",
       "      <td>3349</td>\n",
       "      <td>3</td>\n",
       "    </tr>\n",
       "    <tr>\n",
       "      <th>2</th>\n",
       "      <td>3</td>\n",
       "      <td>NIO</td>\n",
       "      <td>ET7</td>\n",
       "      <td>2020</td>\n",
       "      <td>Calcium-ion</td>\n",
       "      <td>64.7</td>\n",
       "      <td>235</td>\n",
       "      <td>Level 2 Charging</td>\n",
       "      <td>8.9</td>\n",
       "      <td>94347.37</td>\n",
       "      <td>Beige</td>\n",
       "      <td>UK</td>\n",
       "      <td>5.0</td>\n",
       "      <td>0.0</td>\n",
       "      <td>5.0</td>\n",
       "      <td>6300</td>\n",
       "      <td>5</td>\n",
       "    </tr>\n",
       "    <tr>\n",
       "      <th>3</th>\n",
       "      <td>4</td>\n",
       "      <td>Audi</td>\n",
       "      <td>e-tron</td>\n",
       "      <td>2025</td>\n",
       "      <td>Lithium-iron phosphate</td>\n",
       "      <td>120.5</td>\n",
       "      <td>140</td>\n",
       "      <td>Ultra-Fast Charging (350 kW+)</td>\n",
       "      <td>10.5</td>\n",
       "      <td>75615.15</td>\n",
       "      <td>Sunset Orange</td>\n",
       "      <td>Argentina</td>\n",
       "      <td>2.0</td>\n",
       "      <td>0.0</td>\n",
       "      <td>5.0</td>\n",
       "      <td>2339</td>\n",
       "      <td>5</td>\n",
       "    </tr>\n",
       "    <tr>\n",
       "      <th>4</th>\n",
       "      <td>5</td>\n",
       "      <td>Acura</td>\n",
       "      <td>ZDX (with GM Ultium)</td>\n",
       "      <td>2023</td>\n",
       "      <td>Lithium-titanate</td>\n",
       "      <td>51.8</td>\n",
       "      <td>336</td>\n",
       "      <td>Plug-in Hydrogen Refueling</td>\n",
       "      <td>3.6</td>\n",
       "      <td>141046.94</td>\n",
       "      <td>Ice Silver</td>\n",
       "      <td>United Arab Emirates</td>\n",
       "      <td>2.0</td>\n",
       "      <td>0.0</td>\n",
       "      <td>3.0</td>\n",
       "      <td>1051</td>\n",
       "      <td>4</td>\n",
       "    </tr>\n",
       "  </tbody>\n",
       "</table>\n",
       "</div>"
      ],
      "text/plain": [
       "   Vehicle_ID Manufacturer                 Model  Year  \\\n",
       "0           1        Acura  ZDX (with GM Ultium)  2015   \n",
       "1           2  Lamborghini       Revuelto (PHEV)  2025   \n",
       "2           3          NIO                   ET7  2020   \n",
       "3           4         Audi                e-tron  2025   \n",
       "4           5        Acura  ZDX (with GM Ultium)  2023   \n",
       "\n",
       "             Battery_Type  Battery_Capacity_kWh  Range_km  \\\n",
       "0        Lithium-titanate                  55.8       214   \n",
       "1        Lithium-titanate                  90.8       212   \n",
       "2             Calcium-ion                  64.7       235   \n",
       "3  Lithium-iron phosphate                 120.5       140   \n",
       "4        Lithium-titanate                  51.8       336   \n",
       "\n",
       "                   Charging_Type  Charge_Time_hr  Price_USD          Color  \\\n",
       "0                        CHAdeMO             9.0  111203.94    Matte White   \n",
       "1          Vehicle-to-Home (V2H)             7.3  127131.65          White   \n",
       "2               Level 2 Charging             8.9   94347.37          Beige   \n",
       "3  Ultra-Fast Charging (350 kW+)            10.5   75615.15  Sunset Orange   \n",
       "4     Plug-in Hydrogen Refueling             3.6  141046.94     Ice Silver   \n",
       "\n",
       "  Country_of_Manufacture  Autonomous_Level  CO2_Emissions_g_per_km  \\\n",
       "0                     UK               0.0                     NaN   \n",
       "1            Netherlands               2.0                     0.0   \n",
       "2                     UK               5.0                     0.0   \n",
       "3              Argentina               2.0                     0.0   \n",
       "4   United Arab Emirates               2.0                     0.0   \n",
       "\n",
       "   Safety_Rating  Units_Sold_2024  Warranty_Years  \n",
       "0            5.0            19726               3  \n",
       "1            4.0             3349               3  \n",
       "2            5.0             6300               5  \n",
       "3            5.0             2339               5  \n",
       "4            3.0             1051               4  "
      ]
     },
     "execution_count": 14,
     "metadata": {},
     "output_type": "execute_result"
    }
   ],
   "source": [
    "df.head()"
   ]
  },
  {
   "cell_type": "code",
   "execution_count": 15,
   "id": "803a9182",
   "metadata": {},
   "outputs": [
    {
     "data": {
      "text/plain": [
       "Index(['Vehicle_ID', 'Manufacturer', 'Model', 'Year', 'Battery_Type',\n",
       "       'Battery_Capacity_kWh', 'Range_km', 'Charging_Type', 'Charge_Time_hr',\n",
       "       'Price_USD', 'Color', 'Country_of_Manufacture', 'Autonomous_Level',\n",
       "       'CO2_Emissions_g_per_km', 'Safety_Rating', 'Units_Sold_2024',\n",
       "       'Warranty_Years'],\n",
       "      dtype='object')"
      ]
     },
     "execution_count": 15,
     "metadata": {},
     "output_type": "execute_result"
    }
   ],
   "source": [
    "df.columns"
   ]
  },
  {
   "cell_type": "code",
   "execution_count": 77,
   "id": "3d933a2a",
   "metadata": {},
   "outputs": [
    {
     "data": {
      "text/plain": [
       "Warranty_Years\n",
       "3    1024\n",
       "5    1016\n",
       "4     982\n",
       "Name: count, dtype: int64"
      ]
     },
     "execution_count": 77,
     "metadata": {},
     "output_type": "execute_result"
    }
   ],
   "source": [
    "df['Warranty_Years'].value_counts()"
   ]
  },
  {
   "cell_type": "code",
   "execution_count": 17,
   "id": "6fb9b6d5",
   "metadata": {},
   "outputs": [
    {
     "data": {
      "text/plain": [
       "' \\nTarget columns is not unbalanced \\n'"
      ]
     },
     "execution_count": 17,
     "metadata": {},
     "output_type": "execute_result"
    }
   ],
   "source": [
    "\"\"\" \n",
    "Target columns is not unbalanced \n",
    "\"\"\""
   ]
  },
  {
   "cell_type": "markdown",
   "id": "1627b5b7",
   "metadata": {},
   "source": [
    "# **SECTION B :**"
   ]
  },
  {
   "cell_type": "markdown",
   "id": "5047e7a6",
   "metadata": {},
   "source": [
    "# Q4"
   ]
  },
  {
   "cell_type": "code",
   "execution_count": 18,
   "id": "3ffbfcf8",
   "metadata": {},
   "outputs": [
    {
     "data": {
      "text/html": [
       "<div>\n",
       "<style scoped>\n",
       "    .dataframe tbody tr th:only-of-type {\n",
       "        vertical-align: middle;\n",
       "    }\n",
       "\n",
       "    .dataframe tbody tr th {\n",
       "        vertical-align: top;\n",
       "    }\n",
       "\n",
       "    .dataframe thead th {\n",
       "        text-align: right;\n",
       "    }\n",
       "</style>\n",
       "<table border=\"1\" class=\"dataframe\">\n",
       "  <thead>\n",
       "    <tr style=\"text-align: right;\">\n",
       "      <th></th>\n",
       "      <th>Vehicle_ID</th>\n",
       "      <th>Manufacturer</th>\n",
       "      <th>Model</th>\n",
       "      <th>Year</th>\n",
       "      <th>Battery_Type</th>\n",
       "      <th>Battery_Capacity_kWh</th>\n",
       "      <th>Range_km</th>\n",
       "      <th>Charging_Type</th>\n",
       "      <th>Charge_Time_hr</th>\n",
       "      <th>Price_USD</th>\n",
       "      <th>Color</th>\n",
       "      <th>Country_of_Manufacture</th>\n",
       "      <th>Autonomous_Level</th>\n",
       "      <th>CO2_Emissions_g_per_km</th>\n",
       "      <th>Safety_Rating</th>\n",
       "      <th>Units_Sold_2024</th>\n",
       "      <th>Warranty_Years</th>\n",
       "    </tr>\n",
       "  </thead>\n",
       "  <tbody>\n",
       "    <tr>\n",
       "      <th>1591</th>\n",
       "      <td>1592</td>\n",
       "      <td>Audi</td>\n",
       "      <td>Q8 e-tron</td>\n",
       "      <td>2023</td>\n",
       "      <td>Lithium-sulfur</td>\n",
       "      <td>125.8</td>\n",
       "      <td>272</td>\n",
       "      <td>NACS</td>\n",
       "      <td>12.0</td>\n",
       "      <td>51060.04</td>\n",
       "      <td>Ruby Red</td>\n",
       "      <td>Russia</td>\n",
       "      <td>0.0</td>\n",
       "      <td>NaN</td>\n",
       "      <td>4.0</td>\n",
       "      <td>15943</td>\n",
       "      <td>5</td>\n",
       "    </tr>\n",
       "    <tr>\n",
       "      <th>2009</th>\n",
       "      <td>2010</td>\n",
       "      <td>Porsche</td>\n",
       "      <td>Macan EV</td>\n",
       "      <td>2024</td>\n",
       "      <td>Calcium-ion</td>\n",
       "      <td>29.2</td>\n",
       "      <td>453</td>\n",
       "      <td>NACS</td>\n",
       "      <td>3.8</td>\n",
       "      <td>102274.52</td>\n",
       "      <td>Teal</td>\n",
       "      <td>Saudi Arabia</td>\n",
       "      <td>5.0</td>\n",
       "      <td>0.0</td>\n",
       "      <td>NaN</td>\n",
       "      <td>13868</td>\n",
       "      <td>3</td>\n",
       "    </tr>\n",
       "    <tr>\n",
       "      <th>1543</th>\n",
       "      <td>1544</td>\n",
       "      <td>BMW</td>\n",
       "      <td>iX</td>\n",
       "      <td>2018</td>\n",
       "      <td>Flow batteries</td>\n",
       "      <td>146.6</td>\n",
       "      <td>511</td>\n",
       "      <td>Battery Swapping</td>\n",
       "      <td>4.6</td>\n",
       "      <td>91485.37</td>\n",
       "      <td>Gold</td>\n",
       "      <td>Indonesia</td>\n",
       "      <td>4.0</td>\n",
       "      <td>0.0</td>\n",
       "      <td>NaN</td>\n",
       "      <td>7598</td>\n",
       "      <td>4</td>\n",
       "    </tr>\n",
       "    <tr>\n",
       "      <th>1927</th>\n",
       "      <td>1928</td>\n",
       "      <td>Lucid Motors</td>\n",
       "      <td>Lucid Gravity</td>\n",
       "      <td>2023</td>\n",
       "      <td>Lithium-sulfur</td>\n",
       "      <td>29.4</td>\n",
       "      <td>507</td>\n",
       "      <td>Level 1 Charging</td>\n",
       "      <td>2.5</td>\n",
       "      <td>68336.99</td>\n",
       "      <td>Lime Green</td>\n",
       "      <td>Finland</td>\n",
       "      <td>3.0</td>\n",
       "      <td>0.0</td>\n",
       "      <td>4.0</td>\n",
       "      <td>18718</td>\n",
       "      <td>3</td>\n",
       "    </tr>\n",
       "    <tr>\n",
       "      <th>77</th>\n",
       "      <td>78</td>\n",
       "      <td>Hyundai</td>\n",
       "      <td>Kona Electric</td>\n",
       "      <td>2021</td>\n",
       "      <td>Solid-state</td>\n",
       "      <td>116.8</td>\n",
       "      <td>290</td>\n",
       "      <td>CHAdeMO</td>\n",
       "      <td>6.9</td>\n",
       "      <td>100375.81</td>\n",
       "      <td>Matte Gray</td>\n",
       "      <td>United Arab Emirates</td>\n",
       "      <td>0.0</td>\n",
       "      <td>0.0</td>\n",
       "      <td>4.0</td>\n",
       "      <td>1685</td>\n",
       "      <td>4</td>\n",
       "    </tr>\n",
       "  </tbody>\n",
       "</table>\n",
       "</div>"
      ],
      "text/plain": [
       "      Vehicle_ID  Manufacturer          Model  Year    Battery_Type  \\\n",
       "1591        1592          Audi      Q8 e-tron  2023  Lithium-sulfur   \n",
       "2009        2010       Porsche       Macan EV  2024     Calcium-ion   \n",
       "1543        1544           BMW             iX  2018  Flow batteries   \n",
       "1927        1928  Lucid Motors  Lucid Gravity  2023  Lithium-sulfur   \n",
       "77            78       Hyundai  Kona Electric  2021     Solid-state   \n",
       "\n",
       "      Battery_Capacity_kWh  Range_km     Charging_Type  Charge_Time_hr  \\\n",
       "1591                 125.8       272              NACS            12.0   \n",
       "2009                  29.2       453              NACS             3.8   \n",
       "1543                 146.6       511  Battery Swapping             4.6   \n",
       "1927                  29.4       507  Level 1 Charging             2.5   \n",
       "77                   116.8       290           CHAdeMO             6.9   \n",
       "\n",
       "      Price_USD       Color Country_of_Manufacture  Autonomous_Level  \\\n",
       "1591   51060.04    Ruby Red                 Russia               0.0   \n",
       "2009  102274.52        Teal           Saudi Arabia               5.0   \n",
       "1543   91485.37        Gold              Indonesia               4.0   \n",
       "1927   68336.99  Lime Green                Finland               3.0   \n",
       "77    100375.81  Matte Gray   United Arab Emirates               0.0   \n",
       "\n",
       "      CO2_Emissions_g_per_km  Safety_Rating  Units_Sold_2024  Warranty_Years  \n",
       "1591                     NaN            4.0            15943               5  \n",
       "2009                     0.0            NaN            13868               3  \n",
       "1543                     0.0            NaN             7598               4  \n",
       "1927                     0.0            4.0            18718               3  \n",
       "77                       0.0            4.0             1685               4  "
      ]
     },
     "execution_count": 18,
     "metadata": {},
     "output_type": "execute_result"
    }
   ],
   "source": [
    "df.sample(5)"
   ]
  },
  {
   "cell_type": "code",
   "execution_count": 19,
   "id": "0ee6e30d",
   "metadata": {},
   "outputs": [
    {
     "name": "stdout",
     "output_type": "stream",
     "text": [
      "Vehicle_ID                  0\n",
      "Manufacturer                0\n",
      "Model                       0\n",
      "Year                        0\n",
      "Battery_Type                0\n",
      "Battery_Capacity_kWh        0\n",
      "Range_km                    0\n",
      "Charging_Type               0\n",
      "Charge_Time_hr              0\n",
      "Price_USD                   0\n",
      "Color                       0\n",
      "Country_of_Manufacture      0\n",
      "Autonomous_Level          442\n",
      "CO2_Emissions_g_per_km    592\n",
      "Safety_Rating             337\n",
      "Units_Sold_2024             0\n",
      "Warranty_Years              0\n",
      "dtype: int64\n"
     ]
    }
   ],
   "source": [
    "print(df.isnull().sum())"
   ]
  },
  {
   "cell_type": "code",
   "execution_count": 20,
   "id": "96d87166",
   "metadata": {},
   "outputs": [
    {
     "data": {
      "text/plain": [
       "CO2_Emissions_g_per_km\n",
       "0.0    2430\n",
       "Name: count, dtype: int64"
      ]
     },
     "execution_count": 20,
     "metadata": {},
     "output_type": "execute_result"
    }
   ],
   "source": [
    "# all value are 0 so this is not usefull we drop in next step\n",
    "df['CO2_Emissions_g_per_km'].value_counts()"
   ]
  },
  {
   "cell_type": "code",
   "execution_count": 21,
   "id": "4ca1705d",
   "metadata": {},
   "outputs": [
    {
     "data": {
      "text/plain": [
       "np.int64(0)"
      ]
     },
     "execution_count": 21,
     "metadata": {},
     "output_type": "execute_result"
    }
   ],
   "source": [
    "# Autonomous_Level\n",
    "df['Autonomous_Level']= df['Autonomous_Level'].ffill()\n",
    "df['Autonomous_Level'].isnull().sum()"
   ]
  },
  {
   "cell_type": "code",
   "execution_count": 22,
   "id": "9dbc07c0",
   "metadata": {},
   "outputs": [
    {
     "data": {
      "text/plain": [
       "Autonomous_Level\n",
       "5.0    534\n",
       "3.0    512\n",
       "0.0    504\n",
       "2.0    503\n",
       "1.0    498\n",
       "4.0    471\n",
       "Name: count, dtype: int64"
      ]
     },
     "execution_count": 22,
     "metadata": {},
     "output_type": "execute_result"
    }
   ],
   "source": [
    "df['Autonomous_Level'].value_counts()"
   ]
  },
  {
   "cell_type": "code",
   "execution_count": 23,
   "id": "183177ab",
   "metadata": {},
   "outputs": [
    {
     "data": {
      "text/plain": [
       "np.int64(0)"
      ]
     },
     "execution_count": 23,
     "metadata": {},
     "output_type": "execute_result"
    }
   ],
   "source": [
    "# Safety_Rating\n",
    "df['Safety_Rating']= df['Safety_Rating'].ffill()\n",
    "df['Safety_Rating'].isnull().sum()"
   ]
  },
  {
   "cell_type": "code",
   "execution_count": 24,
   "id": "3ad1e381",
   "metadata": {},
   "outputs": [
    {
     "data": {
      "text/plain": [
       "Safety_Rating\n",
       "3.0    1010\n",
       "5.0    1008\n",
       "4.0    1004\n",
       "Name: count, dtype: int64"
      ]
     },
     "execution_count": 24,
     "metadata": {},
     "output_type": "execute_result"
    }
   ],
   "source": [
    "df['Safety_Rating'].value_counts()"
   ]
  },
  {
   "cell_type": "code",
   "execution_count": 25,
   "id": "31086885",
   "metadata": {},
   "outputs": [
    {
     "data": {
      "text/html": [
       "<div>\n",
       "<style scoped>\n",
       "    .dataframe tbody tr th:only-of-type {\n",
       "        vertical-align: middle;\n",
       "    }\n",
       "\n",
       "    .dataframe tbody tr th {\n",
       "        vertical-align: top;\n",
       "    }\n",
       "\n",
       "    .dataframe thead th {\n",
       "        text-align: right;\n",
       "    }\n",
       "</style>\n",
       "<table border=\"1\" class=\"dataframe\">\n",
       "  <thead>\n",
       "    <tr style=\"text-align: right;\">\n",
       "      <th></th>\n",
       "      <th>Manufacturer</th>\n",
       "      <th>Model</th>\n",
       "      <th>Year</th>\n",
       "      <th>Battery_Type</th>\n",
       "      <th>Battery_Capacity_kWh</th>\n",
       "      <th>Range_km</th>\n",
       "      <th>Charging_Type</th>\n",
       "      <th>Charge_Time_hr</th>\n",
       "      <th>Price_USD</th>\n",
       "      <th>Color</th>\n",
       "      <th>Country_of_Manufacture</th>\n",
       "      <th>Autonomous_Level</th>\n",
       "      <th>Safety_Rating</th>\n",
       "      <th>Units_Sold_2024</th>\n",
       "      <th>Warranty_Years</th>\n",
       "    </tr>\n",
       "  </thead>\n",
       "  <tbody>\n",
       "    <tr>\n",
       "      <th>0</th>\n",
       "      <td>Acura</td>\n",
       "      <td>ZDX (with GM Ultium)</td>\n",
       "      <td>2015</td>\n",
       "      <td>Lithium-titanate</td>\n",
       "      <td>55.8</td>\n",
       "      <td>214</td>\n",
       "      <td>CHAdeMO</td>\n",
       "      <td>9.0</td>\n",
       "      <td>111203.94</td>\n",
       "      <td>Matte White</td>\n",
       "      <td>UK</td>\n",
       "      <td>0.0</td>\n",
       "      <td>5.0</td>\n",
       "      <td>19726</td>\n",
       "      <td>3</td>\n",
       "    </tr>\n",
       "    <tr>\n",
       "      <th>1</th>\n",
       "      <td>Lamborghini</td>\n",
       "      <td>Revuelto (PHEV)</td>\n",
       "      <td>2025</td>\n",
       "      <td>Lithium-titanate</td>\n",
       "      <td>90.8</td>\n",
       "      <td>212</td>\n",
       "      <td>Vehicle-to-Home (V2H)</td>\n",
       "      <td>7.3</td>\n",
       "      <td>127131.65</td>\n",
       "      <td>White</td>\n",
       "      <td>Netherlands</td>\n",
       "      <td>2.0</td>\n",
       "      <td>4.0</td>\n",
       "      <td>3349</td>\n",
       "      <td>3</td>\n",
       "    </tr>\n",
       "    <tr>\n",
       "      <th>2</th>\n",
       "      <td>NIO</td>\n",
       "      <td>ET7</td>\n",
       "      <td>2020</td>\n",
       "      <td>Calcium-ion</td>\n",
       "      <td>64.7</td>\n",
       "      <td>235</td>\n",
       "      <td>Level 2 Charging</td>\n",
       "      <td>8.9</td>\n",
       "      <td>94347.37</td>\n",
       "      <td>Beige</td>\n",
       "      <td>UK</td>\n",
       "      <td>5.0</td>\n",
       "      <td>5.0</td>\n",
       "      <td>6300</td>\n",
       "      <td>5</td>\n",
       "    </tr>\n",
       "    <tr>\n",
       "      <th>3</th>\n",
       "      <td>Audi</td>\n",
       "      <td>e-tron</td>\n",
       "      <td>2025</td>\n",
       "      <td>Lithium-iron phosphate</td>\n",
       "      <td>120.5</td>\n",
       "      <td>140</td>\n",
       "      <td>Ultra-Fast Charging (350 kW+)</td>\n",
       "      <td>10.5</td>\n",
       "      <td>75615.15</td>\n",
       "      <td>Sunset Orange</td>\n",
       "      <td>Argentina</td>\n",
       "      <td>2.0</td>\n",
       "      <td>5.0</td>\n",
       "      <td>2339</td>\n",
       "      <td>5</td>\n",
       "    </tr>\n",
       "    <tr>\n",
       "      <th>4</th>\n",
       "      <td>Acura</td>\n",
       "      <td>ZDX (with GM Ultium)</td>\n",
       "      <td>2023</td>\n",
       "      <td>Lithium-titanate</td>\n",
       "      <td>51.8</td>\n",
       "      <td>336</td>\n",
       "      <td>Plug-in Hydrogen Refueling</td>\n",
       "      <td>3.6</td>\n",
       "      <td>141046.94</td>\n",
       "      <td>Ice Silver</td>\n",
       "      <td>United Arab Emirates</td>\n",
       "      <td>2.0</td>\n",
       "      <td>3.0</td>\n",
       "      <td>1051</td>\n",
       "      <td>4</td>\n",
       "    </tr>\n",
       "  </tbody>\n",
       "</table>\n",
       "</div>"
      ],
      "text/plain": [
       "  Manufacturer                 Model  Year            Battery_Type  \\\n",
       "0        Acura  ZDX (with GM Ultium)  2015        Lithium-titanate   \n",
       "1  Lamborghini       Revuelto (PHEV)  2025        Lithium-titanate   \n",
       "2          NIO                   ET7  2020             Calcium-ion   \n",
       "3         Audi                e-tron  2025  Lithium-iron phosphate   \n",
       "4        Acura  ZDX (with GM Ultium)  2023        Lithium-titanate   \n",
       "\n",
       "   Battery_Capacity_kWh  Range_km                  Charging_Type  \\\n",
       "0                  55.8       214                        CHAdeMO   \n",
       "1                  90.8       212          Vehicle-to-Home (V2H)   \n",
       "2                  64.7       235               Level 2 Charging   \n",
       "3                 120.5       140  Ultra-Fast Charging (350 kW+)   \n",
       "4                  51.8       336     Plug-in Hydrogen Refueling   \n",
       "\n",
       "   Charge_Time_hr  Price_USD          Color Country_of_Manufacture  \\\n",
       "0             9.0  111203.94    Matte White                     UK   \n",
       "1             7.3  127131.65          White            Netherlands   \n",
       "2             8.9   94347.37          Beige                     UK   \n",
       "3            10.5   75615.15  Sunset Orange              Argentina   \n",
       "4             3.6  141046.94     Ice Silver   United Arab Emirates   \n",
       "\n",
       "   Autonomous_Level  Safety_Rating  Units_Sold_2024  Warranty_Years  \n",
       "0               0.0            5.0            19726               3  \n",
       "1               2.0            4.0             3349               3  \n",
       "2               5.0            5.0             6300               5  \n",
       "3               2.0            5.0             2339               5  \n",
       "4               2.0            3.0             1051               4  "
      ]
     },
     "execution_count": 25,
     "metadata": {},
     "output_type": "execute_result"
    }
   ],
   "source": [
    "df = df.drop(columns=['Vehicle_ID','CO2_Emissions_g_per_km'])\n",
    "df.head()"
   ]
  },
  {
   "cell_type": "markdown",
   "id": "f7032b20",
   "metadata": {},
   "source": [
    "# Q5"
   ]
  },
  {
   "cell_type": "markdown",
   "id": "10fd9266",
   "metadata": {},
   "source": [
    "# encoding"
   ]
  },
  {
   "cell_type": "code",
   "execution_count": 26,
   "id": "3e28a40a",
   "metadata": {},
   "outputs": [
    {
     "data": {
      "text/html": [
       "<div>\n",
       "<style scoped>\n",
       "    .dataframe tbody tr th:only-of-type {\n",
       "        vertical-align: middle;\n",
       "    }\n",
       "\n",
       "    .dataframe tbody tr th {\n",
       "        vertical-align: top;\n",
       "    }\n",
       "\n",
       "    .dataframe thead th {\n",
       "        text-align: right;\n",
       "    }\n",
       "</style>\n",
       "<table border=\"1\" class=\"dataframe\">\n",
       "  <thead>\n",
       "    <tr style=\"text-align: right;\">\n",
       "      <th></th>\n",
       "      <th>Manufacturer</th>\n",
       "      <th>Model</th>\n",
       "      <th>Year</th>\n",
       "      <th>Battery_Type</th>\n",
       "      <th>Battery_Capacity_kWh</th>\n",
       "      <th>Range_km</th>\n",
       "      <th>Charging_Type</th>\n",
       "      <th>Charge_Time_hr</th>\n",
       "      <th>Price_USD</th>\n",
       "      <th>Color</th>\n",
       "      <th>Country_of_Manufacture</th>\n",
       "      <th>Autonomous_Level</th>\n",
       "      <th>Safety_Rating</th>\n",
       "      <th>Units_Sold_2024</th>\n",
       "      <th>Warranty_Years</th>\n",
       "    </tr>\n",
       "  </thead>\n",
       "  <tbody>\n",
       "    <tr>\n",
       "      <th>172</th>\n",
       "      <td>Volvo</td>\n",
       "      <td>EX30</td>\n",
       "      <td>2017</td>\n",
       "      <td>Magnesium-ion</td>\n",
       "      <td>79.5</td>\n",
       "      <td>480</td>\n",
       "      <td>Vehicle-to-Load (V2L)</td>\n",
       "      <td>6.8</td>\n",
       "      <td>43585.32</td>\n",
       "      <td>Orange</td>\n",
       "      <td>Portugal</td>\n",
       "      <td>2.0</td>\n",
       "      <td>5.0</td>\n",
       "      <td>14462</td>\n",
       "      <td>5</td>\n",
       "    </tr>\n",
       "    <tr>\n",
       "      <th>2429</th>\n",
       "      <td>Peugeot</td>\n",
       "      <td>e-2008</td>\n",
       "      <td>2016</td>\n",
       "      <td>Zinc-air</td>\n",
       "      <td>75.2</td>\n",
       "      <td>214</td>\n",
       "      <td>Level 2 Charging</td>\n",
       "      <td>4.5</td>\n",
       "      <td>89359.27</td>\n",
       "      <td>Blue</td>\n",
       "      <td>Spain</td>\n",
       "      <td>3.0</td>\n",
       "      <td>3.0</td>\n",
       "      <td>5912</td>\n",
       "      <td>4</td>\n",
       "    </tr>\n",
       "    <tr>\n",
       "      <th>2520</th>\n",
       "      <td>Polestar</td>\n",
       "      <td>Polestar 2</td>\n",
       "      <td>2020</td>\n",
       "      <td>Nickel-manganese-cobalt</td>\n",
       "      <td>49.2</td>\n",
       "      <td>159</td>\n",
       "      <td>Ultra-Fast Charging (350 kW+)</td>\n",
       "      <td>4.8</td>\n",
       "      <td>126774.65</td>\n",
       "      <td>Rose Gold</td>\n",
       "      <td>United Arab Emirates</td>\n",
       "      <td>5.0</td>\n",
       "      <td>4.0</td>\n",
       "      <td>12199</td>\n",
       "      <td>3</td>\n",
       "    </tr>\n",
       "    <tr>\n",
       "      <th>162</th>\n",
       "      <td>Mahindra</td>\n",
       "      <td>XUV400</td>\n",
       "      <td>2025</td>\n",
       "      <td>Lithium-sulfur</td>\n",
       "      <td>51.5</td>\n",
       "      <td>437</td>\n",
       "      <td>CHAdeMO</td>\n",
       "      <td>8.7</td>\n",
       "      <td>124689.21</td>\n",
       "      <td>Red</td>\n",
       "      <td>Malaysia</td>\n",
       "      <td>3.0</td>\n",
       "      <td>5.0</td>\n",
       "      <td>13706</td>\n",
       "      <td>5</td>\n",
       "    </tr>\n",
       "    <tr>\n",
       "      <th>2980</th>\n",
       "      <td>XPeng</td>\n",
       "      <td>G6</td>\n",
       "      <td>2025</td>\n",
       "      <td>Lead-acid</td>\n",
       "      <td>126.1</td>\n",
       "      <td>149</td>\n",
       "      <td>Vehicle-to-Grid (V2G)</td>\n",
       "      <td>1.4</td>\n",
       "      <td>101984.41</td>\n",
       "      <td>Teal</td>\n",
       "      <td>Hungary</td>\n",
       "      <td>4.0</td>\n",
       "      <td>5.0</td>\n",
       "      <td>4901</td>\n",
       "      <td>5</td>\n",
       "    </tr>\n",
       "    <tr>\n",
       "      <th>632</th>\n",
       "      <td>Faraday Future</td>\n",
       "      <td>FF 91</td>\n",
       "      <td>2017</td>\n",
       "      <td>Magnesium-ion</td>\n",
       "      <td>133.2</td>\n",
       "      <td>380</td>\n",
       "      <td>DC Fast Charging (DCFC)</td>\n",
       "      <td>6.2</td>\n",
       "      <td>84576.94</td>\n",
       "      <td>Pearl White</td>\n",
       "      <td>Czech Republic</td>\n",
       "      <td>2.0</td>\n",
       "      <td>3.0</td>\n",
       "      <td>5871</td>\n",
       "      <td>5</td>\n",
       "    </tr>\n",
       "    <tr>\n",
       "      <th>541</th>\n",
       "      <td>Great Wall Motors</td>\n",
       "      <td>ORA Lightning Cat</td>\n",
       "      <td>2017</td>\n",
       "      <td>Nickel-metal hydride</td>\n",
       "      <td>129.0</td>\n",
       "      <td>410</td>\n",
       "      <td>CCS</td>\n",
       "      <td>2.5</td>\n",
       "      <td>44898.17</td>\n",
       "      <td>Racing Red</td>\n",
       "      <td>Thailand</td>\n",
       "      <td>5.0</td>\n",
       "      <td>3.0</td>\n",
       "      <td>14439</td>\n",
       "      <td>4</td>\n",
       "    </tr>\n",
       "    <tr>\n",
       "      <th>2277</th>\n",
       "      <td>GMC</td>\n",
       "      <td>Hummer EV SUV</td>\n",
       "      <td>2019</td>\n",
       "      <td>Lithium-titanate</td>\n",
       "      <td>38.4</td>\n",
       "      <td>505</td>\n",
       "      <td>DC Fast Charging (DCFC)</td>\n",
       "      <td>6.6</td>\n",
       "      <td>132122.22</td>\n",
       "      <td>Pink</td>\n",
       "      <td>Hungary</td>\n",
       "      <td>2.0</td>\n",
       "      <td>5.0</td>\n",
       "      <td>4169</td>\n",
       "      <td>5</td>\n",
       "    </tr>\n",
       "    <tr>\n",
       "      <th>1517</th>\n",
       "      <td>XPeng</td>\n",
       "      <td>P7</td>\n",
       "      <td>2015</td>\n",
       "      <td>Calcium-ion</td>\n",
       "      <td>90.6</td>\n",
       "      <td>393</td>\n",
       "      <td>CHAdeMO</td>\n",
       "      <td>5.3</td>\n",
       "      <td>76102.93</td>\n",
       "      <td>Gray</td>\n",
       "      <td>USA</td>\n",
       "      <td>0.0</td>\n",
       "      <td>5.0</td>\n",
       "      <td>14733</td>\n",
       "      <td>5</td>\n",
       "    </tr>\n",
       "    <tr>\n",
       "      <th>1968</th>\n",
       "      <td>Toyota</td>\n",
       "      <td>bZ4X</td>\n",
       "      <td>2022</td>\n",
       "      <td>Magnesium-ion</td>\n",
       "      <td>27.0</td>\n",
       "      <td>246</td>\n",
       "      <td>Mobile Charging</td>\n",
       "      <td>6.1</td>\n",
       "      <td>94976.85</td>\n",
       "      <td>Candy Apple Red</td>\n",
       "      <td>Netherlands</td>\n",
       "      <td>1.0</td>\n",
       "      <td>3.0</td>\n",
       "      <td>16991</td>\n",
       "      <td>5</td>\n",
       "    </tr>\n",
       "  </tbody>\n",
       "</table>\n",
       "</div>"
      ],
      "text/plain": [
       "           Manufacturer              Model  Year             Battery_Type  \\\n",
       "172               Volvo               EX30  2017            Magnesium-ion   \n",
       "2429            Peugeot             e-2008  2016                 Zinc-air   \n",
       "2520           Polestar         Polestar 2  2020  Nickel-manganese-cobalt   \n",
       "162            Mahindra             XUV400  2025           Lithium-sulfur   \n",
       "2980              XPeng                 G6  2025                Lead-acid   \n",
       "632      Faraday Future              FF 91  2017            Magnesium-ion   \n",
       "541   Great Wall Motors  ORA Lightning Cat  2017     Nickel-metal hydride   \n",
       "2277                GMC      Hummer EV SUV  2019         Lithium-titanate   \n",
       "1517              XPeng                 P7  2015              Calcium-ion   \n",
       "1968             Toyota               bZ4X  2022            Magnesium-ion   \n",
       "\n",
       "      Battery_Capacity_kWh  Range_km                  Charging_Type  \\\n",
       "172                   79.5       480          Vehicle-to-Load (V2L)   \n",
       "2429                  75.2       214               Level 2 Charging   \n",
       "2520                  49.2       159  Ultra-Fast Charging (350 kW+)   \n",
       "162                   51.5       437                        CHAdeMO   \n",
       "2980                 126.1       149          Vehicle-to-Grid (V2G)   \n",
       "632                  133.2       380        DC Fast Charging (DCFC)   \n",
       "541                  129.0       410                            CCS   \n",
       "2277                  38.4       505        DC Fast Charging (DCFC)   \n",
       "1517                  90.6       393                        CHAdeMO   \n",
       "1968                  27.0       246                Mobile Charging   \n",
       "\n",
       "      Charge_Time_hr  Price_USD            Color Country_of_Manufacture  \\\n",
       "172              6.8   43585.32           Orange               Portugal   \n",
       "2429             4.5   89359.27             Blue                  Spain   \n",
       "2520             4.8  126774.65        Rose Gold   United Arab Emirates   \n",
       "162              8.7  124689.21              Red               Malaysia   \n",
       "2980             1.4  101984.41             Teal                Hungary   \n",
       "632              6.2   84576.94      Pearl White         Czech Republic   \n",
       "541              2.5   44898.17       Racing Red               Thailand   \n",
       "2277             6.6  132122.22             Pink                Hungary   \n",
       "1517             5.3   76102.93             Gray                    USA   \n",
       "1968             6.1   94976.85  Candy Apple Red            Netherlands   \n",
       "\n",
       "      Autonomous_Level  Safety_Rating  Units_Sold_2024  Warranty_Years  \n",
       "172                2.0            5.0            14462               5  \n",
       "2429               3.0            3.0             5912               4  \n",
       "2520               5.0            4.0            12199               3  \n",
       "162                3.0            5.0            13706               5  \n",
       "2980               4.0            5.0             4901               5  \n",
       "632                2.0            3.0             5871               5  \n",
       "541                5.0            3.0            14439               4  \n",
       "2277               2.0            5.0             4169               5  \n",
       "1517               0.0            5.0            14733               5  \n",
       "1968               1.0            3.0            16991               5  "
      ]
     },
     "execution_count": 26,
     "metadata": {},
     "output_type": "execute_result"
    }
   ],
   "source": [
    "df.sample(10)"
   ]
  },
  {
   "cell_type": "code",
   "execution_count": 27,
   "id": "4a82bb42",
   "metadata": {},
   "outputs": [
    {
     "data": {
      "text/plain": [
       "array(['Acura', 'Lamborghini', 'NIO', 'Audi', 'XPeng', 'Jeep', 'Changan',\n",
       "       'Citroen', 'Rimac', 'Volkswagen', 'Jaguar', 'Mini', 'BMW',\n",
       "       'Faraday Future', 'Tesla', 'Maserati', 'Polestar', 'Skoda',\n",
       "       'Geely', 'Chevrolet', 'Lucid Motors', 'Porsche', 'Toyota',\n",
       "       'Li Auto', 'Volvo', 'Seat', 'MG', 'Nissan', 'Ford', 'GMC',\n",
       "       'Cadillac', 'VinFast', 'Great Wall Motors', 'Mazda', 'Honda',\n",
       "       'Kia', 'BYD', 'Rivian', 'Opel', 'Hyundai', 'Lotus', 'Dacia',\n",
       "       'Mercedes-Benz', 'Zeekr', 'Genesis', 'Subaru', 'Canoo', 'Fisker',\n",
       "       'Renault', 'Ferrari', 'Mahindra', 'Peugeot', 'Pininfarina'],\n",
       "      dtype=object)"
      ]
     },
     "execution_count": 27,
     "metadata": {},
     "output_type": "execute_result"
    }
   ],
   "source": [
    "# Manufacturer\n",
    "df['Manufacturer'].unique()"
   ]
  },
  {
   "cell_type": "code",
   "execution_count": 28,
   "id": "89fa1fd7",
   "metadata": {},
   "outputs": [
    {
     "data": {
      "text/plain": [
       "array([ 0, 23, 33,  1, 51, 21,  6,  8, 41, 49, 20, 32,  2, 10, 46, 29, 38,\n",
       "       44, 15,  7, 26, 39, 47, 24, 50, 43, 27, 34, 13, 14,  4, 48, 17, 30,\n",
       "       18, 22,  3, 42, 35, 19, 25,  9, 31, 52, 16, 45,  5, 12, 40, 11, 28,\n",
       "       36, 37])"
      ]
     },
     "execution_count": 28,
     "metadata": {},
     "output_type": "execute_result"
    }
   ],
   "source": [
    "from sklearn.preprocessing import LabelEncoder\n",
    "\n",
    "encoder = LabelEncoder()\n",
    "\n",
    "df['Manufacturer'] = encoder.fit_transform(df['Manufacturer'])\n",
    "\n",
    "df['Manufacturer'].unique()\n"
   ]
  },
  {
   "cell_type": "code",
   "execution_count": 29,
   "id": "72765303",
   "metadata": {},
   "outputs": [
    {
     "data": {
      "text/plain": [
       "array(['ZDX (with GM Ultium)', 'Revuelto (PHEV)', 'ET7', 'e-tron', 'G9',\n",
       "       'Recon (upcoming)', 'Q05', 'ë-C4', 'Nevera', 'ID.Buzz', 'I-PACE',\n",
       "       'Mini Cooper SE', 'iX3', 'FF 91', 'Model Y', 'Grecale Folgore',\n",
       "       'Polestar 2', 'Elroq (upcoming)', 'Emgrand EV', 'Enyaq',\n",
       "       'Mini Electric', 'Bolt EV', 'Lucid Gravity', 'Geometry C',\n",
       "       'Bolt EUV', 'Cayenne Electric (upcoming)',\n",
       "       'Lanzador (upcoming EV)', 'Lexus RZ', 'MEGA', 'EX30', 'SL03',\n",
       "       'Avenger', 'Lucid Air', 'MG5 EV', 'Ariya', 'Wagoneer S',\n",
       "       'Cybertruck', 'E-Transit', 'Hummer EV Pickup', 'Celestiq', 'Ami',\n",
       "       'L9', 'ID.5', 'VF 7', 'ORA Lightning Cat',\n",
       "       'Mazda EV (upcoming models)', 'F-150 Lightning', 'Honda Prologue',\n",
       "       'Soul EV', 'bZ4X', 'Han EV', 'Hummer EV SUV', 'Polestar 3',\n",
       "       'EDV (Electric Delivery Van)', 'Corsa-e', 'Panamera EV',\n",
       "       'VFe34 (discontinued)', 'e-tron GT', 'R1S', 'Kona Electric',\n",
       "       'Grandland Electric', 'Mustang Mach-E', 'Evija', 'ID.6', 'P5',\n",
       "       'Ioniq 7 (upcoming)', 'Niro EV', 'Jogger Hybrid', 'VF 8', 'EQB',\n",
       "       'Zeekr 001', 'GV80 Electric', 'MG4 Electric', 'Volt (PHEV)',\n",
       "       'Zeekr X', 'Zeekr 009', 'ID.2all', 'Solterra', 'Lucid DreamDrive',\n",
       "       'ë-Spacetourer', 'Pickup', 'Ocean', 'P7', 'MPDV', 'ID.7',\n",
       "       'ORA Good Cat', 'Lexus UX 300e', 'EV6', 'Taycan', 'iX1', 'MG ES5',\n",
       "       'i3', 'Kangoo E-Tech', 'Ferrari EV (2025+)', 'XUV400', 'ET5',\n",
       "       'Scenic E-Tech', 'Model S', 'C40 Recharge', 'e-3008',\n",
       "       'Pear (upcoming)', 'ES8', 'Leaf', 'EQS SUV',\n",
       "       'SF90 Stradale (PHEV)', 'VF 9', 'L7', 'Roma PHEV', 'GV60',\n",
       "       'GranTurismo Folgore', 'EQA', 'Deepal S07', 'XC40 Recharge',\n",
       "       'e:Ny1', 'Lifestyle Vehicle', 'Emeya', 'Macan EV',\n",
       "       'Born Electric (upcoming range)', 'Mini Aceman', 'EQS', 'L8',\n",
       "       'Geometry A', 'Dolphin', 'Enyaq Coupe', 'Zeekr 007', 'Lyriq',\n",
       "       'GV70 Electric', '5 E-Tech', 'Grand Cherokee 4xe (PHEV)',\n",
       "       'Optiq (upcoming)', 'Model X', 'ES7', 'Tang EV',\n",
       "       'Roadster (upcoming)', 'Bigster EV (upcoming)', 'G80 Electric',\n",
       "       'Eletre', 'Polestar 4', 'ORA Ballet Cat', 'e-208', 'Equinox EV',\n",
       "       'EV9', 'Explorer EV (Europe)', 'Megane E-Tech', 'Mokka-e',\n",
       "       'Battista', 'iX', 'R1T', 'G6', 'Atto 3', 'Seal', 'Seagull',\n",
       "       'A6 e-tron (upcoming)', 'i7', 'ID.3', 'Q8 e-tron',\n",
       "       'Honda e (discontinued)', 'X9', 'Silverado EV', 'MX-30', 'Ioniq 6',\n",
       "       'Wrangler 4xe (PHEV)', 'ET9', 'e-2008', 'i4', 'Q4 e-tron', 'EX90',\n",
       "       'Model 3', 'VF 6', 'EQC', 'EQE SUV', 'EQE', 'Ioniq 5', 'MG ZS EV',\n",
       "       'e-5008', 'ES6', 'Polestar 5 (upcoming)', 'ID.4', 'EL7', 'EC6',\n",
       "       'G-Class Electric (upcoming)'], dtype=object)"
      ]
     },
     "execution_count": 29,
     "metadata": {},
     "output_type": "execute_result"
    }
   ],
   "source": [
    "# Model\n",
    "df['Model'].unique()"
   ]
  },
  {
   "cell_type": "code",
   "execution_count": 30,
   "id": "848e1710",
   "metadata": {},
   "outputs": [
    {
     "data": {
      "text/plain": [
       "array([160, 136,  33, 170,  54, 135, 130, 179, 114,  76,  69, 106, 178,\n",
       "        49, 111,  63, 126,  40,  42,  43, 107,   9,  93,  59,   8,  12,\n",
       "        86,  88,  95,  37, 140,   5,  91,  99,   3, 155,  15,  18,  67,\n",
       "        13,   2,  85,  73, 150, 118, 103,  48,  65, 146, 165,  64,  68,\n",
       "       127,  20,  14, 123, 153, 171, 133,  82,  62, 113,  46,  74, 121,\n",
       "        79, 115,  80, 151,  23, 161,  57,  98, 154, 164, 163,  70, 145,\n",
       "        92, 180, 125, 119, 122, 100,  75, 117,  89,  35, 148, 177,  96,\n",
       "       173,  81,  50, 159,  32, 141, 109,  11, 168, 124,  31,  87,  28,\n",
       "       139, 152,  83, 138,  55,  60,  22,  16, 158, 172,  90,  41, 102,\n",
       "        10, 105,  27,  84,  58,  17,  44, 162,  94,  56,   0,  61, 120,\n",
       "       110,  30, 147, 137,   7,  53,  39, 128, 116, 167,  45,  36,  47,\n",
       "       104, 112,   6, 176, 134,  52,   4, 143, 142,   1, 175,  71, 132,\n",
       "        66, 157, 144, 101,  78, 156,  34, 166, 174, 131,  38, 108, 149,\n",
       "        24,  26,  25,  77,  97, 169,  29, 129,  72,  21,  19,  51])"
      ]
     },
     "execution_count": 30,
     "metadata": {},
     "output_type": "execute_result"
    }
   ],
   "source": [
    "from sklearn.preprocessing import LabelEncoder\n",
    "\n",
    "encoder = LabelEncoder()\n",
    "\n",
    "df['Model'] = encoder.fit_transform(df['Model'])\n",
    "\n",
    "df['Model'].unique()\n"
   ]
  },
  {
   "cell_type": "code",
   "execution_count": 31,
   "id": "68fb56cf",
   "metadata": {},
   "outputs": [
    {
     "data": {
      "text/plain": [
       "array(['Lithium-titanate', 'Calcium-ion', 'Lithium-iron phosphate',\n",
       "       'Nickel-cobalt-aluminum', 'Lead-acid', 'Aluminum-ion',\n",
       "       'Solid-state', 'Flow batteries', 'Lithium-ion', 'Zinc-air',\n",
       "       'Nickel-metal hydride', 'Sodium-ion', 'Nickel-manganese-cobalt',\n",
       "       'Lithium-sulfur', 'Magnesium-ion'], dtype=object)"
      ]
     },
     "execution_count": 31,
     "metadata": {},
     "output_type": "execute_result"
    }
   ],
   "source": [
    "# Battery_Type\n",
    "df['Battery_Type'].unique()"
   ]
  },
  {
   "cell_type": "code",
   "execution_count": 32,
   "id": "e56f39cd",
   "metadata": {},
   "outputs": [
    {
     "data": {
      "text/plain": [
       "array([ 7,  1,  5,  9,  3,  0, 13,  2,  4, 14, 11, 12, 10,  6,  8])"
      ]
     },
     "execution_count": 32,
     "metadata": {},
     "output_type": "execute_result"
    }
   ],
   "source": [
    "from sklearn.preprocessing import LabelEncoder\n",
    "\n",
    "encoder = LabelEncoder()\n",
    "\n",
    "df['Battery_Type'] = encoder.fit_transform(df['Battery_Type'])\n",
    "\n",
    "df['Battery_Type'].unique()\n"
   ]
  },
  {
   "cell_type": "code",
   "execution_count": 33,
   "id": "0a812e5d",
   "metadata": {},
   "outputs": [
    {
     "data": {
      "text/plain": [
       "array(['CHAdeMO', 'Vehicle-to-Home (V2H)', 'Level 2 Charging',\n",
       "       'Ultra-Fast Charging (350 kW+)', 'Plug-in Hydrogen Refueling',\n",
       "       'Mobile Charging', 'Vehicle-to-Load (V2L)', 'CCS',\n",
       "       'Solar Charging', 'Vehicle-to-Grid (V2G)', 'Level 1 Charging',\n",
       "       'NACS', 'Inductive (Wireless) Charging', 'Battery Swapping',\n",
       "       'Overhead Pantograph Charging', 'DC Fast Charging (DCFC)'],\n",
       "      dtype=object)"
      ]
     },
     "execution_count": 33,
     "metadata": {},
     "output_type": "execute_result"
    }
   ],
   "source": [
    "# Charging_Type\n",
    "df['Charging_Type'].unique()"
   ]
  },
  {
   "cell_type": "code",
   "execution_count": 34,
   "id": "34da9dcd",
   "metadata": {},
   "outputs": [
    {
     "data": {
      "text/plain": [
       "array([ 2, 14,  6, 12, 10,  7, 15,  1, 11, 13,  5,  8,  4,  0,  9,  3])"
      ]
     },
     "execution_count": 34,
     "metadata": {},
     "output_type": "execute_result"
    }
   ],
   "source": [
    "from sklearn.preprocessing import LabelEncoder\n",
    "\n",
    "encoder = LabelEncoder()\n",
    "\n",
    "df['Charging_Type'] = encoder.fit_transform(df['Charging_Type'])\n",
    "\n",
    "df['Charging_Type'].unique()\n"
   ]
  },
  {
   "cell_type": "code",
   "execution_count": 35,
   "id": "748600d6",
   "metadata": {},
   "outputs": [
    {
     "data": {
      "text/plain": [
       "array(['Matte White', 'White', 'Beige', 'Sunset Orange', 'Ice Silver',\n",
       "       'Ruby Red', 'Orange', 'Bronze', 'Metallic Silver', 'Matte Green',\n",
       "       'Stealth Gray', 'Cosmic Purple', 'Tan', 'Rose Gold', 'Burgundy',\n",
       "       'Teal', 'Matte Blue', 'Forest Green', 'Crimson Red', 'Sky Blue',\n",
       "       'Matte Gray', 'Lime Green', 'Magenta', 'Gray', 'Titanium', 'Green',\n",
       "       'Purple', 'Aurora Blue', 'Gun Metal', 'Turquoise', 'Navy Blue',\n",
       "       'Candy Apple Red', 'Yellow', 'Pearl White', 'Copper', 'Gold',\n",
       "       'Brown', 'Electric Blue', 'Silver', 'Matte Black', 'Champagne',\n",
       "       'Sapphire Blue', 'Pink', 'Red', 'Midnight Black', 'Emerald Green',\n",
       "       'Charcoal', 'Graphite Gray', 'Cream', 'Volcanic Yellow',\n",
       "       'Platinum', 'Cobalt Blue', 'Racing Red', 'Blue', 'Black'],\n",
       "      dtype=object)"
      ]
     },
     "execution_count": 35,
     "metadata": {},
     "output_type": "execute_result"
    }
   ],
   "source": [
    "# Color\n",
    "df['Color'].unique()"
   ]
  },
  {
   "cell_type": "code",
   "execution_count": 36,
   "id": "5b98934c",
   "metadata": {},
   "outputs": [
    {
     "data": {
      "text/plain": [
       "array([30, 53,  1, 47, 23, 42, 34,  4, 31, 29, 46, 12, 48, 41,  6, 49, 27,\n",
       "       17, 14, 45, 28, 24, 25, 20, 50, 21, 38,  0, 22, 51, 33,  7, 54, 35,\n",
       "       11, 18,  5, 15, 44, 26,  8, 43, 36, 40, 32, 16,  9, 19, 13, 52, 37,\n",
       "       10, 39,  3,  2])"
      ]
     },
     "execution_count": 36,
     "metadata": {},
     "output_type": "execute_result"
    }
   ],
   "source": [
    "from sklearn.preprocessing import LabelEncoder\n",
    "\n",
    "encoder = LabelEncoder()\n",
    "\n",
    "df['Color'] = encoder.fit_transform(df['Color'])\n",
    "\n",
    "df['Color'].unique()\n"
   ]
  },
  {
   "cell_type": "code",
   "execution_count": 37,
   "id": "cdad1cd1",
   "metadata": {},
   "outputs": [
    {
     "data": {
      "text/plain": [
       "array(['UK', 'Netherlands', 'Argentina', 'United Arab Emirates',\n",
       "       'Australia', 'Sweden', 'Mexico', 'Denmark', 'South Korea',\n",
       "       'Belgium', 'Norway', 'Hungary', 'China', 'France', 'Japan',\n",
       "       'Saudi Arabia', 'India', 'Poland', 'USA', 'Finland',\n",
       "       'South Africa', 'Switzerland', 'Portugal', 'Germany', 'Ireland',\n",
       "       'Canada', 'Italy', 'Austria', 'Spain', 'Thailand', 'Israel',\n",
       "       'Indonesia', 'Singapore', 'Vietnam', 'Brazil', 'Turkey',\n",
       "       'New Zealand', 'Russia', 'Malaysia', 'Czech Republic'],\n",
       "      dtype=object)"
      ]
     },
     "execution_count": 37,
     "metadata": {},
     "output_type": "execute_result"
    }
   ],
   "source": [
    "# Country_of_Manufacture\n",
    "df['Country_of_Manufacture'].unique()"
   ]
  },
  {
   "cell_type": "code",
   "execution_count": 38,
   "id": "f541daf5",
   "metadata": {},
   "outputs": [
    {
     "data": {
      "text/plain": [
       "array([36, 21,  0, 38,  1, 32, 20,  8, 30,  3, 23, 12,  6, 10, 18, 27, 13,\n",
       "       24, 37,  9, 29, 33, 25, 11, 15,  5, 17,  2, 31, 34, 16, 14, 28, 39,\n",
       "        4, 35, 22, 26, 19,  7])"
      ]
     },
     "execution_count": 38,
     "metadata": {},
     "output_type": "execute_result"
    }
   ],
   "source": [
    "from sklearn.preprocessing import LabelEncoder\n",
    "\n",
    "encoder = LabelEncoder()\n",
    "\n",
    "df['Country_of_Manufacture'] = encoder.fit_transform(df['Country_of_Manufacture'])\n",
    "\n",
    "df['Country_of_Manufacture'].unique()\n"
   ]
  },
  {
   "cell_type": "code",
   "execution_count": 39,
   "id": "8f0301df",
   "metadata": {},
   "outputs": [
    {
     "data": {
      "text/html": [
       "<div>\n",
       "<style scoped>\n",
       "    .dataframe tbody tr th:only-of-type {\n",
       "        vertical-align: middle;\n",
       "    }\n",
       "\n",
       "    .dataframe tbody tr th {\n",
       "        vertical-align: top;\n",
       "    }\n",
       "\n",
       "    .dataframe thead th {\n",
       "        text-align: right;\n",
       "    }\n",
       "</style>\n",
       "<table border=\"1\" class=\"dataframe\">\n",
       "  <thead>\n",
       "    <tr style=\"text-align: right;\">\n",
       "      <th></th>\n",
       "      <th>Manufacturer</th>\n",
       "      <th>Model</th>\n",
       "      <th>Year</th>\n",
       "      <th>Battery_Type</th>\n",
       "      <th>Battery_Capacity_kWh</th>\n",
       "      <th>Range_km</th>\n",
       "      <th>Charging_Type</th>\n",
       "      <th>Charge_Time_hr</th>\n",
       "      <th>Price_USD</th>\n",
       "      <th>Color</th>\n",
       "      <th>Country_of_Manufacture</th>\n",
       "      <th>Autonomous_Level</th>\n",
       "      <th>Safety_Rating</th>\n",
       "      <th>Units_Sold_2024</th>\n",
       "      <th>Warranty_Years</th>\n",
       "    </tr>\n",
       "  </thead>\n",
       "  <tbody>\n",
       "    <tr>\n",
       "      <th>1339</th>\n",
       "      <td>29</td>\n",
       "      <td>60</td>\n",
       "      <td>2015</td>\n",
       "      <td>14</td>\n",
       "      <td>114.9</td>\n",
       "      <td>385</td>\n",
       "      <td>15</td>\n",
       "      <td>2.2</td>\n",
       "      <td>76772.95</td>\n",
       "      <td>18</td>\n",
       "      <td>28</td>\n",
       "      <td>1.0</td>\n",
       "      <td>3.0</td>\n",
       "      <td>16253</td>\n",
       "      <td>4</td>\n",
       "    </tr>\n",
       "    <tr>\n",
       "      <th>1561</th>\n",
       "      <td>18</td>\n",
       "      <td>172</td>\n",
       "      <td>2021</td>\n",
       "      <td>10</td>\n",
       "      <td>89.5</td>\n",
       "      <td>187</td>\n",
       "      <td>1</td>\n",
       "      <td>11.4</td>\n",
       "      <td>31773.86</td>\n",
       "      <td>10</td>\n",
       "      <td>38</td>\n",
       "      <td>0.0</td>\n",
       "      <td>4.0</td>\n",
       "      <td>13283</td>\n",
       "      <td>5</td>\n",
       "    </tr>\n",
       "    <tr>\n",
       "      <th>806</th>\n",
       "      <td>16</td>\n",
       "      <td>56</td>\n",
       "      <td>2022</td>\n",
       "      <td>8</td>\n",
       "      <td>55.6</td>\n",
       "      <td>519</td>\n",
       "      <td>4</td>\n",
       "      <td>2.9</td>\n",
       "      <td>116000.72</td>\n",
       "      <td>11</td>\n",
       "      <td>0</td>\n",
       "      <td>5.0</td>\n",
       "      <td>5.0</td>\n",
       "      <td>18349</td>\n",
       "      <td>5</td>\n",
       "    </tr>\n",
       "    <tr>\n",
       "      <th>357</th>\n",
       "      <td>40</td>\n",
       "      <td>104</td>\n",
       "      <td>2022</td>\n",
       "      <td>9</td>\n",
       "      <td>112.8</td>\n",
       "      <td>367</td>\n",
       "      <td>1</td>\n",
       "      <td>0.5</td>\n",
       "      <td>141880.48</td>\n",
       "      <td>45</td>\n",
       "      <td>15</td>\n",
       "      <td>2.0</td>\n",
       "      <td>5.0</td>\n",
       "      <td>17058</td>\n",
       "      <td>5</td>\n",
       "    </tr>\n",
       "    <tr>\n",
       "      <th>801</th>\n",
       "      <td>8</td>\n",
       "      <td>180</td>\n",
       "      <td>2024</td>\n",
       "      <td>6</td>\n",
       "      <td>84.0</td>\n",
       "      <td>190</td>\n",
       "      <td>7</td>\n",
       "      <td>6.3</td>\n",
       "      <td>91704.03</td>\n",
       "      <td>42</td>\n",
       "      <td>24</td>\n",
       "      <td>4.0</td>\n",
       "      <td>5.0</td>\n",
       "      <td>16484</td>\n",
       "      <td>4</td>\n",
       "    </tr>\n",
       "  </tbody>\n",
       "</table>\n",
       "</div>"
      ],
      "text/plain": [
       "      Manufacturer  Model  Year  Battery_Type  Battery_Capacity_kWh  Range_km  \\\n",
       "1339            29     60  2015            14                 114.9       385   \n",
       "1561            18    172  2021            10                  89.5       187   \n",
       "806             16     56  2022             8                  55.6       519   \n",
       "357             40    104  2022             9                 112.8       367   \n",
       "801              8    180  2024             6                  84.0       190   \n",
       "\n",
       "      Charging_Type  Charge_Time_hr  Price_USD  Color  Country_of_Manufacture  \\\n",
       "1339             15             2.2   76772.95     18                      28   \n",
       "1561              1            11.4   31773.86     10                      38   \n",
       "806               4             2.9  116000.72     11                       0   \n",
       "357               1             0.5  141880.48     45                      15   \n",
       "801               7             6.3   91704.03     42                      24   \n",
       "\n",
       "      Autonomous_Level  Safety_Rating  Units_Sold_2024  Warranty_Years  \n",
       "1339               1.0            3.0            16253               4  \n",
       "1561               0.0            4.0            13283               5  \n",
       "806                5.0            5.0            18349               5  \n",
       "357                2.0            5.0            17058               5  \n",
       "801                4.0            5.0            16484               4  "
      ]
     },
     "execution_count": 39,
     "metadata": {},
     "output_type": "execute_result"
    }
   ],
   "source": [
    "df.sample(5)"
   ]
  },
  {
   "cell_type": "code",
   "execution_count": 40,
   "id": "99b8fc5e",
   "metadata": {},
   "outputs": [
    {
     "data": {
      "image/png": "[encoded data removed]",
      "text/plain": [
       "<Figure size 640x480 with 2 Axes>"
      ]
     },
     "metadata": {},
     "output_type": "display_data"
    }
   ],
   "source": [
    "# make a hitmap for check a relationship between data\n",
    "\n",
    "import seaborn as sns\n",
    "import matplotlib.pyplot as plt\n",
    "plt.Figure(figsize=(30,30))\n",
    "sns.heatmap(data=df.corr(), cbar=True, annot=True, fmt=\".1f\",linewidth=.5)\n",
    "plt.show()"
   ]
  },
  {
   "cell_type": "code",
   "execution_count": 41,
   "id": "3686fa13",
   "metadata": {},
   "outputs": [
    {
     "name": "stdout",
     "output_type": "stream",
     "text": [
      "                        Manufacturer     Model      Year  Battery_Type  \\\n",
      "Manufacturer                1.000000 -0.013267  0.000822      0.006451   \n",
      "Model                      -0.013267  1.000000 -0.028724     -0.023670   \n",
      "Year                        0.000822 -0.028724  1.000000     -0.016892   \n",
      "Battery_Type                0.006451 -0.023670 -0.016892      1.000000   \n",
      "Battery_Capacity_kWh        0.040148  0.013838 -0.010963     -0.013575   \n",
      "Range_km                    0.022530 -0.011480 -0.024297     -0.011938   \n",
      "Charging_Type               0.015974  0.001145  0.019893     -0.054939   \n",
      "Charge_Time_hr             -0.004092  0.012129  0.022666      0.004525   \n",
      "Price_USD                  -0.008627 -0.002644 -0.031727      0.005847   \n",
      "Color                       0.006891 -0.013576  0.025238      0.024133   \n",
      "Country_of_Manufacture      0.034426 -0.000139 -0.017162      0.009250   \n",
      "Autonomous_Level            0.040450 -0.008443  0.061977      0.013651   \n",
      "Safety_Rating               0.013598  0.032988  0.028712      0.014001   \n",
      "Units_Sold_2024             0.032105 -0.027750  0.036731      0.001271   \n",
      "Warranty_Years              0.030424 -0.005652 -0.029818     -0.010639   \n",
      "\n",
      "                        Battery_Capacity_kWh  Range_km  Charging_Type  \\\n",
      "Manufacturer                        0.040148  0.022530       0.015974   \n",
      "Model                               0.013838 -0.011480       0.001145   \n",
      "Year                               -0.010963 -0.024297       0.019893   \n",
      "Battery_Type                       -0.013575 -0.011938      -0.054939   \n",
      "Battery_Capacity_kWh                1.000000 -0.001871       0.005666   \n",
      "Range_km                           -0.001871  1.000000       0.006043   \n",
      "Charging_Type                       0.005666  0.006043       1.000000   \n",
      "Charge_Time_hr                     -0.003416 -0.025931       0.009095   \n",
      "Price_USD                          -0.017496 -0.007748       0.010269   \n",
      "Color                               0.031131  0.018039      -0.014248   \n",
      "Country_of_Manufacture              0.011873 -0.007218      -0.029847   \n",
      "Autonomous_Level                   -0.036310  0.015410       0.008853   \n",
      "Safety_Rating                       0.008942  0.002952      -0.000516   \n",
      "Units_Sold_2024                     0.011752  0.013507      -0.045139   \n",
      "Warranty_Years                      0.010093  0.014174       0.008197   \n",
      "\n",
      "                        Charge_Time_hr  Price_USD     Color  \\\n",
      "Manufacturer                 -0.004092  -0.008627  0.006891   \n",
      "Model                         0.012129  -0.002644 -0.013576   \n",
      "Year                          0.022666  -0.031727  0.025238   \n",
      "Battery_Type                  0.004525   0.005847  0.024133   \n",
      "Battery_Capacity_kWh         -0.003416  -0.017496  0.031131   \n",
      "Range_km                     -0.025931  -0.007748  0.018039   \n",
      "Charging_Type                 0.009095   0.010269 -0.014248   \n",
      "Charge_Time_hr                1.000000  -0.013851 -0.015826   \n",
      "Price_USD                    -0.013851   1.000000 -0.009460   \n",
      "Color                        -0.015826  -0.009460  1.000000   \n",
      "Country_of_Manufacture        0.007002  -0.013140  0.006118   \n",
      "Autonomous_Level              0.025246  -0.017387 -0.006039   \n",
      "Safety_Rating                -0.016908   0.011693 -0.007855   \n",
      "Units_Sold_2024               0.023916  -0.013324 -0.014768   \n",
      "Warranty_Years               -0.007418   0.039806 -0.010864   \n",
      "\n",
      "                        Country_of_Manufacture  Autonomous_Level  \\\n",
      "Manufacturer                          0.034426          0.040450   \n",
      "Model                                -0.000139         -0.008443   \n",
      "Year                                 -0.017162          0.061977   \n",
      "Battery_Type                          0.009250          0.013651   \n",
      "Battery_Capacity_kWh                  0.011873         -0.036310   \n",
      "Range_km                             -0.007218          0.015410   \n",
      "Charging_Type                        -0.029847          0.008853   \n",
      "Charge_Time_hr                        0.007002          0.025246   \n",
      "Price_USD                            -0.013140         -0.017387   \n",
      "Color                                 0.006118         -0.006039   \n",
      "Country_of_Manufacture                1.000000          0.015937   \n",
      "Autonomous_Level                      0.015937          1.000000   \n",
      "Safety_Rating                         0.014588          0.037009   \n",
      "Units_Sold_2024                      -0.009726          0.034548   \n",
      "Warranty_Years                       -0.013945          0.002134   \n",
      "\n",
      "                        Safety_Rating  Units_Sold_2024  Warranty_Years  \n",
      "Manufacturer                 0.013598         0.032105        0.030424  \n",
      "Model                        0.032988        -0.027750       -0.005652  \n",
      "Year                         0.028712         0.036731       -0.029818  \n",
      "Battery_Type                 0.014001         0.001271       -0.010639  \n",
      "Battery_Capacity_kWh         0.008942         0.011752        0.010093  \n",
      "Range_km                     0.002952         0.013507        0.014174  \n",
      "Charging_Type               -0.000516        -0.045139        0.008197  \n",
      "Charge_Time_hr              -0.016908         0.023916       -0.007418  \n",
      "Price_USD                    0.011693        -0.013324        0.039806  \n",
      "Color                       -0.007855        -0.014768       -0.010864  \n",
      "Country_of_Manufacture       0.014588        -0.009726       -0.013945  \n",
      "Autonomous_Level             0.037009         0.034548        0.002134  \n",
      "Safety_Rating                1.000000        -0.003187       -0.005917  \n",
      "Units_Sold_2024             -0.003187         1.000000        0.001246  \n",
      "Warranty_Years              -0.005917         0.001246        1.000000  \n"
     ]
    }
   ],
   "source": [
    "print(df.corr())"
   ]
  },
  {
   "cell_type": "code",
   "execution_count": 42,
   "id": "4bf3c084",
   "metadata": {},
   "outputs": [
    {
     "data": {
      "text/html": [
       "<div>\n",
       "<style scoped>\n",
       "    .dataframe tbody tr th:only-of-type {\n",
       "        vertical-align: middle;\n",
       "    }\n",
       "\n",
       "    .dataframe tbody tr th {\n",
       "        vertical-align: top;\n",
       "    }\n",
       "\n",
       "    .dataframe thead th {\n",
       "        text-align: right;\n",
       "    }\n",
       "</style>\n",
       "<table border=\"1\" class=\"dataframe\">\n",
       "  <thead>\n",
       "    <tr style=\"text-align: right;\">\n",
       "      <th></th>\n",
       "      <th>Manufacturer</th>\n",
       "      <th>Model</th>\n",
       "      <th>Year</th>\n",
       "      <th>Battery_Type</th>\n",
       "      <th>Battery_Capacity_kWh</th>\n",
       "      <th>Range_km</th>\n",
       "      <th>Charging_Type</th>\n",
       "      <th>Charge_Time_hr</th>\n",
       "      <th>Price_USD</th>\n",
       "      <th>Color</th>\n",
       "      <th>Country_of_Manufacture</th>\n",
       "      <th>Autonomous_Level</th>\n",
       "      <th>Safety_Rating</th>\n",
       "      <th>Units_Sold_2024</th>\n",
       "      <th>Warranty_Years</th>\n",
       "    </tr>\n",
       "  </thead>\n",
       "  <tbody>\n",
       "    <tr>\n",
       "      <th>0</th>\n",
       "      <td>0</td>\n",
       "      <td>160</td>\n",
       "      <td>2015</td>\n",
       "      <td>7</td>\n",
       "      <td>55.8</td>\n",
       "      <td>214</td>\n",
       "      <td>2</td>\n",
       "      <td>9.0</td>\n",
       "      <td>111203.94</td>\n",
       "      <td>30</td>\n",
       "      <td>36</td>\n",
       "      <td>0.0</td>\n",
       "      <td>5.0</td>\n",
       "      <td>19726</td>\n",
       "      <td>3</td>\n",
       "    </tr>\n",
       "    <tr>\n",
       "      <th>1</th>\n",
       "      <td>23</td>\n",
       "      <td>136</td>\n",
       "      <td>2025</td>\n",
       "      <td>7</td>\n",
       "      <td>90.8</td>\n",
       "      <td>212</td>\n",
       "      <td>14</td>\n",
       "      <td>7.3</td>\n",
       "      <td>127131.65</td>\n",
       "      <td>53</td>\n",
       "      <td>21</td>\n",
       "      <td>2.0</td>\n",
       "      <td>4.0</td>\n",
       "      <td>3349</td>\n",
       "      <td>3</td>\n",
       "    </tr>\n",
       "    <tr>\n",
       "      <th>2</th>\n",
       "      <td>33</td>\n",
       "      <td>33</td>\n",
       "      <td>2020</td>\n",
       "      <td>1</td>\n",
       "      <td>64.7</td>\n",
       "      <td>235</td>\n",
       "      <td>6</td>\n",
       "      <td>8.9</td>\n",
       "      <td>94347.37</td>\n",
       "      <td>1</td>\n",
       "      <td>36</td>\n",
       "      <td>5.0</td>\n",
       "      <td>5.0</td>\n",
       "      <td>6300</td>\n",
       "      <td>5</td>\n",
       "    </tr>\n",
       "    <tr>\n",
       "      <th>3</th>\n",
       "      <td>1</td>\n",
       "      <td>170</td>\n",
       "      <td>2025</td>\n",
       "      <td>5</td>\n",
       "      <td>120.5</td>\n",
       "      <td>140</td>\n",
       "      <td>12</td>\n",
       "      <td>10.5</td>\n",
       "      <td>75615.15</td>\n",
       "      <td>47</td>\n",
       "      <td>0</td>\n",
       "      <td>2.0</td>\n",
       "      <td>5.0</td>\n",
       "      <td>2339</td>\n",
       "      <td>5</td>\n",
       "    </tr>\n",
       "    <tr>\n",
       "      <th>4</th>\n",
       "      <td>0</td>\n",
       "      <td>160</td>\n",
       "      <td>2023</td>\n",
       "      <td>7</td>\n",
       "      <td>51.8</td>\n",
       "      <td>336</td>\n",
       "      <td>10</td>\n",
       "      <td>3.6</td>\n",
       "      <td>141046.94</td>\n",
       "      <td>23</td>\n",
       "      <td>38</td>\n",
       "      <td>2.0</td>\n",
       "      <td>3.0</td>\n",
       "      <td>1051</td>\n",
       "      <td>4</td>\n",
       "    </tr>\n",
       "  </tbody>\n",
       "</table>\n",
       "</div>"
      ],
      "text/plain": [
       "   Manufacturer  Model  Year  Battery_Type  Battery_Capacity_kWh  Range_km  \\\n",
       "0             0    160  2015             7                  55.8       214   \n",
       "1            23    136  2025             7                  90.8       212   \n",
       "2            33     33  2020             1                  64.7       235   \n",
       "3             1    170  2025             5                 120.5       140   \n",
       "4             0    160  2023             7                  51.8       336   \n",
       "\n",
       "   Charging_Type  Charge_Time_hr  Price_USD  Color  Country_of_Manufacture  \\\n",
       "0              2             9.0  111203.94     30                      36   \n",
       "1             14             7.3  127131.65     53                      21   \n",
       "2              6             8.9   94347.37      1                      36   \n",
       "3             12            10.5   75615.15     47                       0   \n",
       "4             10             3.6  141046.94     23                      38   \n",
       "\n",
       "   Autonomous_Level  Safety_Rating  Units_Sold_2024  Warranty_Years  \n",
       "0               0.0            5.0            19726               3  \n",
       "1               2.0            4.0             3349               3  \n",
       "2               5.0            5.0             6300               5  \n",
       "3               2.0            5.0             2339               5  \n",
       "4               2.0            3.0             1051               4  "
      ]
     },
     "execution_count": 42,
     "metadata": {},
     "output_type": "execute_result"
    }
   ],
   "source": [
    "# encoing after df\n",
    "df.head()"
   ]
  },
  {
   "cell_type": "markdown",
   "id": "64a1c491",
   "metadata": {},
   "source": [
    "# Scale"
   ]
  },
  {
   "cell_type": "code",
   "execution_count": 43,
   "id": "5b03fd67",
   "metadata": {},
   "outputs": [],
   "source": [
    "# Battery_Capacity_kWhf\n",
    "\n",
    "from sklearn.preprocessing import StandardScaler\n",
    "\n",
    "scaler = StandardScaler()\n",
    "\n",
    "df['Battery_Capacity_kWh']= scaler.fit_transform(df[['Battery_Capacity_kWh']])\n"
   ]
  },
  {
   "cell_type": "code",
   "execution_count": 44,
   "id": "2ab62af3",
   "metadata": {},
   "outputs": [],
   "source": [
    "# Range_km\n",
    "\n",
    "from sklearn.preprocessing import StandardScaler\n",
    "\n",
    "scaler = StandardScaler()\n",
    "\n",
    "df['Range_km']= scaler.fit_transform(df[['Range_km']])\n"
   ]
  },
  {
   "cell_type": "code",
   "execution_count": 45,
   "id": "76ec980a",
   "metadata": {},
   "outputs": [],
   "source": [
    "# Charge_Time_hr\n",
    "\n",
    "from sklearn.preprocessing import StandardScaler\n",
    "\n",
    "scaler = StandardScaler()\n",
    "\n",
    "df['Charge_Time_hr']= scaler.fit_transform(df[['Charge_Time_hr']])\n"
   ]
  },
  {
   "cell_type": "code",
   "execution_count": 46,
   "id": "01e41a4d",
   "metadata": {},
   "outputs": [],
   "source": [
    "# Price_USD\n",
    "\n",
    "from sklearn.preprocessing import StandardScaler\n",
    "\n",
    "scaler = StandardScaler()\n",
    "\n",
    "df['Price_USD']= scaler.fit_transform(df[['Price_USD']])\n"
   ]
  },
  {
   "cell_type": "code",
   "execution_count": 47,
   "id": "302e3666",
   "metadata": {},
   "outputs": [],
   "source": [
    "# Units_Sold_2024\n",
    "\n",
    "from sklearn.preprocessing import StandardScaler\n",
    "\n",
    "scaler = StandardScaler()\n",
    "\n",
    "df['Units_Sold_2024']= scaler.fit_transform(df[['Units_Sold_2024']])\n"
   ]
  },
  {
   "cell_type": "code",
   "execution_count": 48,
   "id": "c3bd045c",
   "metadata": {},
   "outputs": [
    {
     "data": {
      "text/html": [
       "<div>\n",
       "<style scoped>\n",
       "    .dataframe tbody tr th:only-of-type {\n",
       "        vertical-align: middle;\n",
       "    }\n",
       "\n",
       "    .dataframe tbody tr th {\n",
       "        vertical-align: top;\n",
       "    }\n",
       "\n",
       "    .dataframe thead th {\n",
       "        text-align: right;\n",
       "    }\n",
       "</style>\n",
       "<table border=\"1\" class=\"dataframe\">\n",
       "  <thead>\n",
       "    <tr style=\"text-align: right;\">\n",
       "      <th></th>\n",
       "      <th>Manufacturer</th>\n",
       "      <th>Model</th>\n",
       "      <th>Year</th>\n",
       "      <th>Battery_Type</th>\n",
       "      <th>Battery_Capacity_kWh</th>\n",
       "      <th>Range_km</th>\n",
       "      <th>Charging_Type</th>\n",
       "      <th>Charge_Time_hr</th>\n",
       "      <th>Price_USD</th>\n",
       "      <th>Color</th>\n",
       "      <th>Country_of_Manufacture</th>\n",
       "      <th>Autonomous_Level</th>\n",
       "      <th>Safety_Rating</th>\n",
       "      <th>Units_Sold_2024</th>\n",
       "      <th>Warranty_Years</th>\n",
       "    </tr>\n",
       "  </thead>\n",
       "  <tbody>\n",
       "    <tr>\n",
       "      <th>0</th>\n",
       "      <td>0</td>\n",
       "      <td>160</td>\n",
       "      <td>2015</td>\n",
       "      <td>7</td>\n",
       "      <td>-0.766435</td>\n",
       "      <td>-0.934785</td>\n",
       "      <td>2</td>\n",
       "      <td>0.832215</td>\n",
       "      <td>0.594307</td>\n",
       "      <td>30</td>\n",
       "      <td>36</td>\n",
       "      <td>0.0</td>\n",
       "      <td>5.0</td>\n",
       "      <td>1.649538</td>\n",
       "      <td>3</td>\n",
       "    </tr>\n",
       "    <tr>\n",
       "      <th>1</th>\n",
       "      <td>23</td>\n",
       "      <td>136</td>\n",
       "      <td>2025</td>\n",
       "      <td>7</td>\n",
       "      <td>0.174316</td>\n",
       "      <td>-0.948542</td>\n",
       "      <td>14</td>\n",
       "      <td>0.324759</td>\n",
       "      <td>1.053997</td>\n",
       "      <td>53</td>\n",
       "      <td>21</td>\n",
       "      <td>2.0</td>\n",
       "      <td>4.0</td>\n",
       "      <td>-1.188437</td>\n",
       "      <td>3</td>\n",
       "    </tr>\n",
       "    <tr>\n",
       "      <th>2</th>\n",
       "      <td>33</td>\n",
       "      <td>33</td>\n",
       "      <td>2020</td>\n",
       "      <td>1</td>\n",
       "      <td>-0.527216</td>\n",
       "      <td>-0.790339</td>\n",
       "      <td>6</td>\n",
       "      <td>0.802364</td>\n",
       "      <td>0.107809</td>\n",
       "      <td>1</td>\n",
       "      <td>36</td>\n",
       "      <td>5.0</td>\n",
       "      <td>5.0</td>\n",
       "      <td>-0.677058</td>\n",
       "      <td>5</td>\n",
       "    </tr>\n",
       "    <tr>\n",
       "      <th>3</th>\n",
       "      <td>1</td>\n",
       "      <td>170</td>\n",
       "      <td>2025</td>\n",
       "      <td>5</td>\n",
       "      <td>0.972611</td>\n",
       "      <td>-1.443789</td>\n",
       "      <td>12</td>\n",
       "      <td>1.279970</td>\n",
       "      <td>-0.432822</td>\n",
       "      <td>47</td>\n",
       "      <td>0</td>\n",
       "      <td>2.0</td>\n",
       "      <td>5.0</td>\n",
       "      <td>-1.363461</td>\n",
       "      <td>5</td>\n",
       "    </tr>\n",
       "    <tr>\n",
       "      <th>4</th>\n",
       "      <td>0</td>\n",
       "      <td>160</td>\n",
       "      <td>2023</td>\n",
       "      <td>7</td>\n",
       "      <td>-0.873950</td>\n",
       "      <td>-0.095617</td>\n",
       "      <td>10</td>\n",
       "      <td>-0.779705</td>\n",
       "      <td>1.455607</td>\n",
       "      <td>23</td>\n",
       "      <td>38</td>\n",
       "      <td>2.0</td>\n",
       "      <td>3.0</td>\n",
       "      <td>-1.586658</td>\n",
       "      <td>4</td>\n",
       "    </tr>\n",
       "  </tbody>\n",
       "</table>\n",
       "</div>"
      ],
      "text/plain": [
       "   Manufacturer  Model  Year  Battery_Type  Battery_Capacity_kWh  Range_km  \\\n",
       "0             0    160  2015             7             -0.766435 -0.934785   \n",
       "1            23    136  2025             7              0.174316 -0.948542   \n",
       "2            33     33  2020             1             -0.527216 -0.790339   \n",
       "3             1    170  2025             5              0.972611 -1.443789   \n",
       "4             0    160  2023             7             -0.873950 -0.095617   \n",
       "\n",
       "   Charging_Type  Charge_Time_hr  Price_USD  Color  Country_of_Manufacture  \\\n",
       "0              2        0.832215   0.594307     30                      36   \n",
       "1             14        0.324759   1.053997     53                      21   \n",
       "2              6        0.802364   0.107809      1                      36   \n",
       "3             12        1.279970  -0.432822     47                       0   \n",
       "4             10       -0.779705   1.455607     23                      38   \n",
       "\n",
       "   Autonomous_Level  Safety_Rating  Units_Sold_2024  Warranty_Years  \n",
       "0               0.0            5.0         1.649538               3  \n",
       "1               2.0            4.0        -1.188437               3  \n",
       "2               5.0            5.0        -0.677058               5  \n",
       "3               2.0            5.0        -1.363461               5  \n",
       "4               2.0            3.0        -1.586658               4  "
      ]
     },
     "execution_count": 48,
     "metadata": {},
     "output_type": "execute_result"
    }
   ],
   "source": [
    "df.head()"
   ]
  },
  {
   "cell_type": "markdown",
   "id": "421b00c7",
   "metadata": {},
   "source": [
    "# Q6"
   ]
  },
  {
   "cell_type": "code",
   "execution_count": 49,
   "id": "db97d7b3",
   "metadata": {},
   "outputs": [
    {
     "data": {
      "text/plain": [
       "np.float64(0.03980638056008718)"
      ]
     },
     "execution_count": 49,
     "metadata": {},
     "output_type": "execute_result"
    }
   ],
   "source": [
    "df['Warranty_Years'].corr(df['Price_USD'])"
   ]
  },
  {
   "cell_type": "code",
   "execution_count": 50,
   "id": "7c46664e",
   "metadata": {},
   "outputs": [
    {
     "data": {
      "text/plain": [
       "\" \\nHOW 'Price_USD' influence 'Warranty_Years' \\n\\n- One of the best feature that influence target feature is Price_USD\\n- Price_USD and Warranty_Years have a positive positive correlation and most correlation score \\n- when price are high so Warranty_Years is automatically high beacuse high price are show ev quality and standards \\n\\n\""
      ]
     },
     "execution_count": 50,
     "metadata": {},
     "output_type": "execute_result"
    }
   ],
   "source": [
    "\"\"\" \n",
    "HOW 'Price_USD' influence 'Warranty_Years' \n",
    "\n",
    "- One of the best feature that influence target feature is Price_USD\n",
    "- Price_USD and Warranty_Years have a positive positive correlation and most correlation score \n",
    "- when price are high so Warranty_Years is automatically high beacuse high price are show ev quality and standards \n",
    "\n",
    "\"\"\""
   ]
  },
  {
   "cell_type": "markdown",
   "id": "75164daf",
   "metadata": {},
   "source": [
    "# download preprocessing dataset"
   ]
  },
  {
   "cell_type": "code",
   "execution_count": null,
   "id": "987c4b35",
   "metadata": {},
   "outputs": [],
   "source": [
    "\n",
    "df.to_csv(path_orbuf='ev_output1.csv',index=False)"
   ]
  }
 ],
 "metadata": {
  "kernelspec": {
   "display_name": "venv",
   "language": "python",
   "name": "python3"
  },
  "language_info": {
   "codemirror_mode": {
    "name": "ipython",
    "version": 3
   },
   "file_extension": ".py",
   "mimetype": "text/x-python",
   "name": "python",
   "nbconvert_exporter": "python",
   "pygments_lexer": "ipython3",
   "version": "3.10.12"
  }
 },
 "nbformat": 4,
 "nbformat_minor": 5
}
